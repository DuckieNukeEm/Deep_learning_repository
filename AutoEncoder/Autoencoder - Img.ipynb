{
 "cells": [
  {
   "cell_type": "markdown",
   "metadata": {},
   "source": [
    "# Autoencoder - For Shits n Giggles"
   ]
  },
  {
   "cell_type": "markdown",
   "metadata": {},
   "source": [
    "I'm going to build a basic Autoencoder just so I have it, going to build it for the MNIST data set"
   ]
  },
  {
   "cell_type": "code",
   "execution_count": 1,
   "metadata": {},
   "outputs": [
    {
     "name": "stdout",
     "output_type": "stream",
     "text": [
      "Num GPUs Available:  1\n"
     ]
    }
   ],
   "source": [
    "import numpy as np\n",
    "import pandas as pd\n",
    "import tensorflow as tf\n",
    "import matplotlib.pyplot as plt\n",
    "\n",
    "from tensorflow.keras import layers, backend, Sequential\n",
    "\n",
    "import sys\n",
    "sys.path.insert(1, '../src/')\n",
    "from data_generator import DataGenerator_array, DataGenerator_file, Plot_Val_Test\n",
    "\n",
    "# for using GPU\n",
    "print(\"Num GPUs Available: \", len(tf.config.experimental.list_physical_devices('GPU')))\n",
    "gpus=tf.config.experimental.list_physical_devices('GPU')\n",
    "tf.config.experimental.set_memory_growth(gpus[0], True)"
   ]
  },
  {
   "cell_type": "markdown",
   "metadata": {},
   "source": [
    "## 1 - Load Data"
   ]
  },
  {
   "cell_type": "code",
   "execution_count": 2,
   "metadata": {},
   "outputs": [],
   "source": [
    "x_train = np.load('../Data/mnist_fashion/x_train.npy')\n",
    "x_test = np.load('../Data/mnist_fashion/x_test.npy')\n",
    "y_train = np.load('../Data/mnist_fashion/y_train.npy')\n",
    "y_test = np.load('../Data/mnist_fashion/y_test.npy')"
   ]
  },
  {
   "cell_type": "code",
   "execution_count": 3,
   "metadata": {},
   "outputs": [],
   "source": [
    "DG_train = DataGenerator_array(x_train, \n",
    "                               #test_y,\n",
    "                               batch_size = 1000,\n",
    "                               to_fit = True,\n",
    "                               dim = (28,28),\n",
    "                               shuffle = False,\n",
    "                               noise = (100, 60)                    \n",
    "                        )\n",
    "DG_test = DataGenerator_array(x_test,\n",
    "                              batch_size = 1000,\n",
    "                              to_fit = True,\n",
    "                              dim = (28,28)\n",
    "                             )"
   ]
  },
  {
   "cell_type": "code",
   "execution_count": 6,
   "metadata": {},
   "outputs": [],
   "source": [
    "latent_dim = 6"
   ]
  },
  {
   "cell_type": "markdown",
   "metadata": {},
   "source": [
    "## 2 - build the Encoder\n",
    "Now, what's pretty cool is the `activity_regularizer` this adds a penality to the loss function at that point.\n",
    "\n",
    "There exists really three locations for this:  \n",
    "* at the kernel (kernel_regularizer)\n",
    "* at the output (activity_regularizer)  \n",
    "* or at the bias\n",
    "\n",
    "**Why do we want to use them?** becuase if we don't, then we are, in essence, just training a NN to be like PCA :/"
   ]
  },
  {
   "cell_type": "code",
   "execution_count": 7,
   "metadata": {},
   "outputs": [
    {
     "name": "stdout",
     "output_type": "stream",
     "text": [
      "Model: \"model_1\"\n",
      "_________________________________________________________________\n",
      "Layer (type)                 Output Shape              Param #   \n",
      "=================================================================\n",
      "input_2 (InputLayer)         [(None, 28, 28, 1)]       0         \n",
      "_________________________________________________________________\n",
      "conv2d_1 (Conv2D)            (None, 28, 28, 64)        640       \n",
      "_________________________________________________________________\n",
      "flatten_1 (Flatten)          (None, 50176)             0         \n",
      "_________________________________________________________________\n",
      "dense_1 (Dense)              (None, 6)                 301062    \n",
      "=================================================================\n",
      "Total params: 301,702\n",
      "Trainable params: 301,702\n",
      "Non-trainable params: 0\n",
      "_________________________________________________________________\n"
     ]
    }
   ],
   "source": [
    "encoder_input = tf.keras.Input(shape=(28, 28, 1))\n",
    "x = layers.Conv2D(filters=64, \n",
    "                  kernel_size=(3,3),\n",
    "                  #strides=(2, 2), \n",
    "                  activation='relu',\n",
    "                  padding = 'same',\n",
    "                 kernel_regularizer=tf.keras.regularizers.l1(10e-3))(encoder_input)\n",
    "x = layers.Flatten()(x)\n",
    "#x = layers.Dense(20, activation = 'tanh')(x)\n",
    "x = layers.Dense(latent_dim, \n",
    "                 activity_regularizer=tf.keras.regularizers.l1(10e-3),\n",
    "                activation = 'relu')(x)\n",
    "Encoder = tf.keras.Model(encoder_input, x)\n",
    "Encoder.summary()"
   ]
  },
  {
   "cell_type": "markdown",
   "metadata": {},
   "source": [
    "## 3 - Build the Decoder"
   ]
  },
  {
   "cell_type": "code",
   "execution_count": 14,
   "metadata": {},
   "outputs": [
    {
     "name": "stdout",
     "output_type": "stream",
     "text": [
      "Model: \"model_5\"\n",
      "_________________________________________________________________\n",
      "Layer (type)                 Output Shape              Param #   \n",
      "=================================================================\n",
      "input_5 (InputLayer)         [(None, 6)]               0         \n",
      "_________________________________________________________________\n",
      "dense_6 (Dense)              (None, 6)                 42        \n",
      "_________________________________________________________________\n",
      "dense_7 (Dense)              (None, 50176)             351232    \n",
      "_________________________________________________________________\n",
      "reshape_2 (Reshape)          (None, 28, 28, 64)        0         \n",
      "_________________________________________________________________\n",
      "conv2d_transpose_3 (Conv2DTr (None, 28, 28, 64)        36928     \n",
      "_________________________________________________________________\n",
      "conv2d_transpose_4 (Conv2DTr (None, 28, 28, 1)         577       \n",
      "=================================================================\n",
      "Total params: 388,779\n",
      "Trainable params: 388,779\n",
      "Non-trainable params: 0\n",
      "_________________________________________________________________\n"
     ]
    }
   ],
   "source": [
    "decoder_input = tf.keras.Input(shape = Encoder.layers[-1].output.shape[1:])\n",
    "x = layers.Dense(latent_dim, \n",
    "                 activation = 'relu')(decoder_input)\n",
    "x = layers.Dense(28*28*64, activation = 'relu')(x)\n",
    "x = tf.keras.layers.Reshape(target_shape=(28, 28, 64))(x)\n",
    "x = layers.Conv2DTranspose(\n",
    "                filters=64, \n",
    "                kernel_size=(3,3), \n",
    "                #strides=2,\n",
    "                padding='same',\n",
    "                activation='relu')(x)\n",
    "x = layers.Conv2DTranspose(\n",
    "                filters=1, \n",
    "                kernel_size=(3,3), \n",
    "                #strides=2,\n",
    "                padding='same',\n",
    "                activation='sigmoid')(x)\n",
    "Decoder = tf.keras.Model(decoder_input, x)\n",
    "Decoder.summary()"
   ]
  },
  {
   "cell_type": "markdown",
   "metadata": {},
   "source": [
    "## 4 - Merging the model together\n",
    "### *Method 1 - subclassing tf.Model*\n",
    "The function below mergers the encoder and decord into one model.\n",
    "the `super(Autoencoder, self)` pulls all the models from the Autoencoder class in tf.Keras.Models, but more importantly **That line HAS TO BE THERE** Don't ask me why, it just does!\n",
    "\n",
    "*muter muter*  \n",
    "\n",
    "the `def call` is what tensorflow looks for when it makes a call to this class.  \n",
    "the `@tf.function` is a tensorflow decorator, for the newest build of TF, you need it, **(maybe, neeed to check on this)** else it will bomb out"
   ]
  },
  {
   "cell_type": "code",
   "execution_count": 15,
   "metadata": {},
   "outputs": [
    {
     "name": "stdout",
     "output_type": "stream",
     "text": [
      "Model: \"auto_encoder_1\"\n",
      "_________________________________________________________________\n",
      "Layer (type)                 Output Shape              Param #   \n",
      "=================================================================\n",
      "model_1 (Functional)         (None, 6)                 301702    \n",
      "_________________________________________________________________\n",
      "model_5 (Functional)         (None, 28, 28, 1)         388779    \n",
      "=================================================================\n",
      "Total params: 690,481\n",
      "Trainable params: 690,481\n",
      "Non-trainable params: 0\n",
      "_________________________________________________________________\n"
     ]
    }
   ],
   "source": [
    "class AutoEncoder(tf.keras.Model):\n",
    "    def __init__(self, encoder, decoder, **kwargs):\n",
    "        super(AutoEncoder, self).__init__(**kwargs)\n",
    "        self.encoder = encoder\n",
    "        self.decoder = decoder\n",
    "        \n",
    "    #@tf.function\n",
    "   \n",
    "    def call(self, inputs, training=None, **kwargs):\n",
    "        x = self.encoder(inputs)\n",
    "        x = self.decoder(x)\n",
    "        return x\n",
    "\n",
    "AE_model = AutoEncoder(Encoder, Decoder)\n",
    "AE_model.build(input_shape = (None,28,28,1))\n",
    "AE_model.summary()"
   ]
  },
  {
   "cell_type": "markdown",
   "metadata": {},
   "source": [
    "### *Method 2 - just merging them*\n",
    "Another way to merge them, it's a bit....clearer about what's going on as we don't need to create a class for it"
   ]
  },
  {
   "cell_type": "code",
   "execution_count": 16,
   "metadata": {},
   "outputs": [
    {
     "name": "stdout",
     "output_type": "stream",
     "text": [
      "Model: \"model_6\"\n",
      "_________________________________________________________________\n",
      "Layer (type)                 Output Shape              Param #   \n",
      "=================================================================\n",
      "input_2 (InputLayer)         [(None, 28, 28, 1)]       0         \n",
      "_________________________________________________________________\n",
      "model_1 (Functional)         (None, 6)                 301702    \n",
      "_________________________________________________________________\n",
      "model_5 (Functional)         (None, 28, 28, 1)         388779    \n",
      "=================================================================\n",
      "Total params: 690,481\n",
      "Trainable params: 690,481\n",
      "Non-trainable params: 0\n",
      "_________________________________________________________________\n"
     ]
    }
   ],
   "source": [
    "aem = tf.keras.Model(encoder_input, Decoder(Encoder(encoder_input)))\n",
    "aem.summary()"
   ]
  },
  {
   "cell_type": "markdown",
   "metadata": {},
   "source": [
    "# 5 - Defining Loss and compiling them"
   ]
  },
  {
   "cell_type": "code",
   "execution_count": 17,
   "metadata": {},
   "outputs": [],
   "source": [
    "aem.compile(optimizer =  tf.optimizers.Adam(),\n",
    "              loss = 'binary_crossentropy', #You can also use MSE  or MSA here\n",
    "              metrics=['mse'])\n",
    "\n",
    "AE_model.compile(optimizer =  tf.optimizers.Adam(),\n",
    "                loss = 'MSE',\n",
    "                metrics = ['mse'])\n"
   ]
  },
  {
   "cell_type": "markdown",
   "metadata": {},
   "source": [
    "# 6 - Training"
   ]
  },
  {
   "cell_type": "code",
   "execution_count": 18,
   "metadata": {},
   "outputs": [
    {
     "name": "stderr",
     "output_type": "stream",
     "text": [
      "W1129 20:00:22.675501 140511751972672 ag_logging.py:146] AutoGraph could not transform <function Model.make_train_function.<locals>.train_function at 0x7fcae42dab70> and will run it as-is.\n",
      "Please report this to the TensorFlow team. When filing the bug, set the verbosity to 10 (on Linux, `export AUTOGRAPH_VERBOSITY=10`) and attach the full output.\n",
      "Cause: 'arguments' object has no attribute 'posonlyargs'\n",
      "To silence this warning, decorate the function with @tf.autograph.experimental.do_not_convert\n"
     ]
    },
    {
     "name": "stdout",
     "output_type": "stream",
     "text": [
      "Epoch 1/60\n",
      "WARNING: AutoGraph could not transform <function Model.make_train_function.<locals>.train_function at 0x7fcae42dab70> and will run it as-is.\n",
      "Please report this to the TensorFlow team. When filing the bug, set the verbosity to 10 (on Linux, `export AUTOGRAPH_VERBOSITY=10`) and attach the full output.\n",
      "Cause: 'arguments' object has no attribute 'posonlyargs'\n",
      "To silence this warning, decorate the function with @tf.autograph.experimental.do_not_convert\n",
      "60/60 [==============================] - ETA: 0s - loss: 0.6268 - mse: 0.1388"
     ]
    },
    {
     "name": "stderr",
     "output_type": "stream",
     "text": [
      "W1129 20:00:27.725061 140511751972672 ag_logging.py:146] AutoGraph could not transform <function Model.make_test_function.<locals>.test_function at 0x7fcae4437c80> and will run it as-is.\n",
      "Please report this to the TensorFlow team. When filing the bug, set the verbosity to 10 (on Linux, `export AUTOGRAPH_VERBOSITY=10`) and attach the full output.\n",
      "Cause: 'arguments' object has no attribute 'posonlyargs'\n",
      "To silence this warning, decorate the function with @tf.autograph.experimental.do_not_convert\n"
     ]
    },
    {
     "name": "stdout",
     "output_type": "stream",
     "text": [
      "WARNING: AutoGraph could not transform <function Model.make_test_function.<locals>.test_function at 0x7fcae4437c80> and will run it as-is.\n",
      "Please report this to the TensorFlow team. When filing the bug, set the verbosity to 10 (on Linux, `export AUTOGRAPH_VERBOSITY=10`) and attach the full output.\n",
      "Cause: 'arguments' object has no attribute 'posonlyargs'\n",
      "To silence this warning, decorate the function with @tf.autograph.experimental.do_not_convert\n",
      "60/60 [==============================] - 5s 76ms/step - loss: 0.6258 - mse: 0.1383 - val_loss: 0.5008 - val_mse: 0.0883\n",
      "Epoch 2/60\n",
      "60/60 [==============================] - 4s 73ms/step - loss: 0.4964 - mse: 0.0881 - val_loss: 0.4925 - val_mse: 0.0867\n",
      "Epoch 3/60\n",
      "60/60 [==============================] - 4s 73ms/step - loss: 0.4914 - mse: 0.0869 - val_loss: 0.4920 - val_mse: 0.0867\n",
      "Epoch 4/60\n",
      "60/60 [==============================] - 4s 73ms/step - loss: 0.4908 - mse: 0.0871 - val_loss: 0.4919 - val_mse: 0.0867\n",
      "Epoch 5/60\n",
      "60/60 [==============================] - 4s 73ms/step - loss: 0.4908 - mse: 0.0869 - val_loss: 0.4918 - val_mse: 0.0867\n",
      "Epoch 6/60\n",
      "60/60 [==============================] - 4s 73ms/step - loss: 0.4908 - mse: 0.0870 - val_loss: 0.4919 - val_mse: 0.0867\n",
      "Epoch 7/60\n",
      "60/60 [==============================] - 4s 73ms/step - loss: 0.4910 - mse: 0.0870 - val_loss: 0.4917 - val_mse: 0.0867\n",
      "Epoch 8/60\n",
      "60/60 [==============================] - 4s 73ms/step - loss: 0.4910 - mse: 0.0869 - val_loss: 0.4917 - val_mse: 0.0867\n",
      "Epoch 9/60\n",
      "60/60 [==============================] - 4s 73ms/step - loss: 0.4910 - mse: 0.0870 - val_loss: 0.4918 - val_mse: 0.0867\n",
      "Epoch 10/60\n",
      "60/60 [==============================] - 4s 73ms/step - loss: 0.4906 - mse: 0.0870 - val_loss: 0.4917 - val_mse: 0.0867\n",
      "Epoch 11/60\n",
      "60/60 [==============================] - 4s 73ms/step - loss: 0.4908 - mse: 0.0869 - val_loss: 0.4919 - val_mse: 0.0867\n",
      "Epoch 12/60\n",
      "60/60 [==============================] - 4s 74ms/step - loss: 0.4906 - mse: 0.0871 - val_loss: 0.4919 - val_mse: 0.0866\n",
      "Epoch 13/60\n",
      "60/60 [==============================] - 4s 74ms/step - loss: 0.4912 - mse: 0.0872 - val_loss: 0.4917 - val_mse: 0.0867\n",
      "Epoch 14/60\n",
      "60/60 [==============================] - 4s 73ms/step - loss: 0.4911 - mse: 0.0871 - val_loss: 0.4917 - val_mse: 0.0867\n",
      "Epoch 15/60\n",
      "60/60 [==============================] - 4s 74ms/step - loss: 0.4912 - mse: 0.0870 - val_loss: 0.4919 - val_mse: 0.0867\n",
      "Epoch 16/60\n",
      "60/60 [==============================] - 4s 74ms/step - loss: 0.4910 - mse: 0.0869 - val_loss: 0.4916 - val_mse: 0.0867\n",
      "Epoch 17/60\n",
      "60/60 [==============================] - 4s 73ms/step - loss: 0.4907 - mse: 0.0869 - val_loss: 0.4916 - val_mse: 0.0866\n",
      "Epoch 18/60\n",
      "60/60 [==============================] - 4s 73ms/step - loss: 0.4910 - mse: 0.0872 - val_loss: 0.4919 - val_mse: 0.0867\n",
      "Epoch 19/60\n",
      "60/60 [==============================] - 4s 73ms/step - loss: 0.4912 - mse: 0.0872 - val_loss: 0.4918 - val_mse: 0.0867\n",
      "Epoch 20/60\n",
      "60/60 [==============================] - 4s 73ms/step - loss: 0.4906 - mse: 0.0870 - val_loss: 0.4918 - val_mse: 0.0867\n",
      "Epoch 21/60\n",
      "60/60 [==============================] - 4s 73ms/step - loss: 0.4908 - mse: 0.0871 - val_loss: 0.4918 - val_mse: 0.0866\n",
      "Epoch 22/60\n",
      "60/60 [==============================] - 4s 73ms/step - loss: 0.4915 - mse: 0.0872 - val_loss: 0.4917 - val_mse: 0.0867\n",
      "Epoch 23/60\n",
      "60/60 [==============================] - 4s 73ms/step - loss: 0.4906 - mse: 0.0868 - val_loss: 0.4916 - val_mse: 0.0866\n",
      "Epoch 24/60\n",
      "60/60 [==============================] - 4s 73ms/step - loss: 0.4908 - mse: 0.0871 - val_loss: 0.4918 - val_mse: 0.0866\n",
      "Epoch 25/60\n",
      "60/60 [==============================] - 4s 73ms/step - loss: 0.4911 - mse: 0.0872 - val_loss: 0.4917 - val_mse: 0.0867\n",
      "Epoch 26/60\n",
      "60/60 [==============================] - 4s 74ms/step - loss: 0.4911 - mse: 0.0869 - val_loss: 0.4918 - val_mse: 0.0867\n",
      "Epoch 27/60\n",
      "60/60 [==============================] - 4s 73ms/step - loss: 0.4908 - mse: 0.0869 - val_loss: 0.4919 - val_mse: 0.0867\n",
      "Epoch 28/60\n",
      "60/60 [==============================] - 4s 74ms/step - loss: 0.4907 - mse: 0.0870 - val_loss: 0.4917 - val_mse: 0.0867\n",
      "Epoch 29/60\n",
      "60/60 [==============================] - 4s 73ms/step - loss: 0.4912 - mse: 0.0870 - val_loss: 0.4917 - val_mse: 0.0867\n",
      "Epoch 30/60\n",
      "60/60 [==============================] - 4s 73ms/step - loss: 0.4908 - mse: 0.0870 - val_loss: 0.4919 - val_mse: 0.0867\n",
      "Epoch 31/60\n",
      "60/60 [==============================] - 4s 73ms/step - loss: 0.4912 - mse: 0.0871 - val_loss: 0.4917 - val_mse: 0.0866\n",
      "Epoch 32/60\n",
      "60/60 [==============================] - 4s 73ms/step - loss: 0.4908 - mse: 0.0869 - val_loss: 0.4918 - val_mse: 0.0867\n",
      "Epoch 33/60\n",
      "60/60 [==============================] - 4s 73ms/step - loss: 0.4909 - mse: 0.0870 - val_loss: 0.4918 - val_mse: 0.0867\n",
      "Epoch 34/60\n",
      "60/60 [==============================] - 4s 73ms/step - loss: 0.4914 - mse: 0.0873 - val_loss: 0.4918 - val_mse: 0.0867\n",
      "Epoch 35/60\n",
      "60/60 [==============================] - 4s 73ms/step - loss: 0.4904 - mse: 0.0870 - val_loss: 0.4917 - val_mse: 0.0867\n",
      "Epoch 36/60\n",
      "60/60 [==============================] - 4s 73ms/step - loss: 0.4908 - mse: 0.0870 - val_loss: 0.4919 - val_mse: 0.0867\n",
      "Epoch 37/60\n",
      "60/60 [==============================] - 4s 73ms/step - loss: 0.4913 - mse: 0.0870 - val_loss: 0.4917 - val_mse: 0.0867\n",
      "Epoch 38/60\n",
      "60/60 [==============================] - 4s 73ms/step - loss: 0.4912 - mse: 0.0872 - val_loss: 0.4917 - val_mse: 0.0867\n",
      "Epoch 39/60\n",
      "60/60 [==============================] - 4s 73ms/step - loss: 0.4912 - mse: 0.0870 - val_loss: 0.4919 - val_mse: 0.0867\n",
      "Epoch 40/60\n",
      "60/60 [==============================] - 4s 73ms/step - loss: 0.4911 - mse: 0.0871 - val_loss: 0.4918 - val_mse: 0.0867\n",
      "Epoch 41/60\n",
      "60/60 [==============================] - 4s 73ms/step - loss: 0.4908 - mse: 0.0871 - val_loss: 0.4917 - val_mse: 0.0866\n",
      "Epoch 42/60\n",
      "60/60 [==============================] - 4s 74ms/step - loss: 0.4909 - mse: 0.0870 - val_loss: 0.4918 - val_mse: 0.0866\n",
      "Epoch 43/60\n",
      "60/60 [==============================] - 4s 73ms/step - loss: 0.4912 - mse: 0.0870 - val_loss: 0.4917 - val_mse: 0.0867\n",
      "Epoch 44/60\n",
      "60/60 [==============================] - 4s 73ms/step - loss: 0.4912 - mse: 0.0869 - val_loss: 0.4917 - val_mse: 0.0866\n",
      "Epoch 45/60\n",
      "60/60 [==============================] - 4s 73ms/step - loss: 0.4906 - mse: 0.0871 - val_loss: 0.4919 - val_mse: 0.0867\n",
      "Epoch 46/60\n",
      "60/60 [==============================] - 4s 73ms/step - loss: 0.4909 - mse: 0.0870 - val_loss: 0.4918 - val_mse: 0.0867\n",
      "Epoch 47/60\n",
      "60/60 [==============================] - 5s 74ms/step - loss: 0.4910 - mse: 0.0871 - val_loss: 0.4916 - val_mse: 0.0866\n",
      "Epoch 48/60\n",
      "60/60 [==============================] - 4s 73ms/step - loss: 0.4910 - mse: 0.0870 - val_loss: 0.4920 - val_mse: 0.0867\n",
      "Epoch 49/60\n",
      "60/60 [==============================] - 4s 73ms/step - loss: 0.4911 - mse: 0.0871 - val_loss: 0.4919 - val_mse: 0.0867\n",
      "Epoch 50/60\n",
      "60/60 [==============================] - 4s 73ms/step - loss: 0.4909 - mse: 0.0870 - val_loss: 0.4917 - val_mse: 0.0867\n",
      "Epoch 51/60\n",
      "60/60 [==============================] - 4s 74ms/step - loss: 0.4911 - mse: 0.0870 - val_loss: 0.4918 - val_mse: 0.0866\n",
      "Epoch 52/60\n",
      "60/60 [==============================] - 4s 73ms/step - loss: 0.4911 - mse: 0.0868 - val_loss: 0.4918 - val_mse: 0.0867\n",
      "Epoch 53/60\n",
      "60/60 [==============================] - 4s 73ms/step - loss: 0.4905 - mse: 0.0870 - val_loss: 0.4917 - val_mse: 0.0866\n",
      "Epoch 54/60\n",
      "60/60 [==============================] - 4s 73ms/step - loss: 0.4912 - mse: 0.0870 - val_loss: 0.4919 - val_mse: 0.0867\n",
      "Epoch 55/60\n",
      "60/60 [==============================] - 4s 73ms/step - loss: 0.4907 - mse: 0.0871 - val_loss: 0.4918 - val_mse: 0.0867\n",
      "Epoch 56/60\n",
      "60/60 [==============================] - 4s 73ms/step - loss: 0.4907 - mse: 0.0869 - val_loss: 0.4917 - val_mse: 0.0866\n",
      "Epoch 57/60\n",
      "60/60 [==============================] - 4s 73ms/step - loss: 0.4912 - mse: 0.0872 - val_loss: 0.4918 - val_mse: 0.0866\n",
      "Epoch 58/60\n",
      "60/60 [==============================] - 4s 73ms/step - loss: 0.4909 - mse: 0.0871 - val_loss: 0.4917 - val_mse: 0.0867\n",
      "Epoch 59/60\n",
      "60/60 [==============================] - 4s 73ms/step - loss: 0.4911 - mse: 0.0870 - val_loss: 0.4917 - val_mse: 0.0867\n",
      "Epoch 60/60\n",
      "60/60 [==============================] - 4s 73ms/step - loss: 0.4911 - mse: 0.0871 - val_loss: 0.4918 - val_mse: 0.0867\n"
     ]
    }
   ],
   "source": [
    "Hist = aem.fit(DG_train, \n",
    "                  epochs = 60,\n",
    "                  validation_data = DG_test)"
   ]
  },
  {
   "cell_type": "markdown",
   "metadata": {},
   "source": [
    "# 7 - Looking at how well it did"
   ]
  },
  {
   "cell_type": "code",
   "execution_count": 19,
   "metadata": {},
   "outputs": [
    {
     "name": "stderr",
     "output_type": "stream",
     "text": [
      "W1129 20:04:52.850067 140511751972672 ag_logging.py:146] AutoGraph could not transform <function Model.make_predict_function.<locals>.predict_function at 0x7fcae4287840> and will run it as-is.\n",
      "Please report this to the TensorFlow team. When filing the bug, set the verbosity to 10 (on Linux, `export AUTOGRAPH_VERBOSITY=10`) and attach the full output.\n",
      "Cause: 'arguments' object has no attribute 'posonlyargs'\n",
      "To silence this warning, decorate the function with @tf.autograph.experimental.do_not_convert\n"
     ]
    },
    {
     "name": "stdout",
     "output_type": "stream",
     "text": [
      "WARNING: AutoGraph could not transform <function Model.make_predict_function.<locals>.predict_function at 0x7fcae4287840> and will run it as-is.\n",
      "Please report this to the TensorFlow team. When filing the bug, set the verbosity to 10 (on Linux, `export AUTOGRAPH_VERBOSITY=10`) and attach the full output.\n",
      "Cause: 'arguments' object has no attribute 'posonlyargs'\n",
      "To silence this warning, decorate the function with @tf.autograph.experimental.do_not_convert\n"
     ]
    },
    {
     "data": {
      "image/png": "[encoded data removed]",
      "text/plain": [
       "<Figure size 1440x288 with 20 Axes>"
      ]
     },
     "metadata": {
      "needs_background": "light"
     },
     "output_type": "display_data"
    }
   ],
   "source": [
    "decoded_imgs = aem.predict(x_test/255.0)\n",
    "n = 10\n",
    "plt.figure(figsize=(20, 4))\n",
    "for i in range(1, n + 1):\n",
    "    # Display original\n",
    "    ax = plt.subplot(2, n, i)\n",
    "    plt.imshow(x_test[i].reshape(28, 28))\n",
    "    plt.gray()\n",
    "    ax.get_xaxis().set_visible(False)\n",
    "    ax.get_yaxis().set_visible(False)\n",
    "\n",
    "    # Display reconstruction\n",
    "    ax = plt.subplot(2, n, i + n)\n",
    "    plt.imshow(decoded_imgs[i].reshape(28, 28))\n",
    "    plt.gray()\n",
    "    ax.get_xaxis().set_visible(False)\n",
    "    ax.get_yaxis().set_visible(False)\n",
    "plt.show()\n"
   ]
  },
  {
   "cell_type": "code",
   "execution_count": 20,
   "metadata": {},
   "outputs": [
    {
     "data": {
      "image/png": "[encoded data removed]",
      "text/plain": [
       "<Figure size 432x288 with 1 Axes>"
      ]
     },
     "metadata": {
      "needs_background": "light"
     },
     "output_type": "display_data"
    },
    {
     "data": {
      "text/plain": [
       "<Figure size 432x288 with 0 Axes>"
      ]
     },
     "metadata": {},
     "output_type": "display_data"
    },
    {
     "data": {
      "image/png": "[encoded data removed]",
      "text/plain": [
       "<Figure size 432x288 with 1 Axes>"
      ]
     },
     "metadata": {
      "needs_background": "light"
     },
     "output_type": "display_data"
    },
    {
     "data": {
      "text/plain": [
       "<Figure size 432x288 with 0 Axes>"
      ]
     },
     "metadata": {},
     "output_type": "display_data"
    }
   ],
   "source": [
    "Plot_Val_Test(Hist, 'mse')\n",
    "\n",
    "Plot_Val_Test(Hist,'loss')"
   ]
  },
  {
   "cell_type": "code",
   "execution_count": null,
   "metadata": {},
   "outputs": [],
   "source": []
  }
 ],
 "metadata": {
  "kernelspec": {
   "display_name": "Python 3",
   "language": "python",
   "name": "python3"
  },
  "language_info": {
   "codemirror_mode": {
    "name": "ipython",
    "version": 3
   },
   "file_extension": ".py",
   "mimetype": "text/x-python",
   "name": "python",
   "nbconvert_exporter": "python",
   "pygments_lexer": "ipython3",
   "version": "3.6.9"
  }
 },
 "nbformat": 4,
 "nbformat_minor": 4
}
