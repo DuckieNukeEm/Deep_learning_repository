{
 "cells": [
  {
   "cell_type": "markdown",
   "metadata": {},
   "source": [
    "# Autoencoder - For Shits n Giggles"
   ]
  },
  {
   "cell_type": "markdown",
   "metadata": {},
   "source": [
    "I'm going to build a basic Autoencoder just so I have it, going to build it for the MNIST data set"
   ]
  },
  {
   "cell_type": "code",
   "execution_count": 1,
   "metadata": {},
   "outputs": [
    {
     "name": "stdout",
     "output_type": "stream",
     "text": [
      "Num GPUs Available:  1\n"
     ]
    }
   ],
   "source": [
    "import numpy as np\n",
    "import pandas as pd\n",
    "import tensorflow as tf\n",
    "import matplotlib.pyplot as plt\n",
    "import kerasncp as kncp\n",
    "\n",
    "from tensorflow.keras import layers, backend, Sequential\n",
    "\n",
    "import sys\n",
    "sys.path.insert(1, '../src/')\n",
    "from data_generator import DataGenerator_array, DataGenerator_file, Plot_Val_Test\n",
    "\n",
    "# for using GPU\n",
    "print(\"Num GPUs Available: \", len(tf.config.experimental.list_physical_devices('GPU')))\n",
    "gpus=tf.config.experimental.list_physical_devices('GPU')\n",
    "tf.config.experimental.set_memory_growth(gpus[0], True)"
   ]
  },
  {
   "cell_type": "markdown",
   "metadata": {},
   "source": [
    "## 1 - Load Data"
   ]
  },
  {
   "cell_type": "code",
   "execution_count": 2,
   "metadata": {},
   "outputs": [],
   "source": [
    "x_train = np.load('../Data/mnist_fashion/x_train.npy')\n",
    "x_test = np.load('../Data/mnist_fashion/x_test.npy')\n",
    "y_train = np.load('../Data/mnist_fashion/y_train.npy')\n",
    "y_test = np.load('../Data/mnist_fashion/y_test.npy')"
   ]
  },
  {
   "cell_type": "code",
   "execution_count": 3,
   "metadata": {},
   "outputs": [],
   "source": [
    "DG_train = DataGenerator_array(x_train, \n",
    "                               #test_y,\n",
    "                               batch_size = 1000,\n",
    "                               to_fit = True,\n",
    "                               dim = (28,28),\n",
    "                               shuffle = True,\n",
    "                               noise = (100, 60)                    \n",
    "                        )\n",
    "DG_test = DataGenerator_array(x_test,\n",
    "                              batch_size = 1000,\n",
    "                              to_fit = True,\n",
    "                              dim = (28,28)\n",
    "                             )"
   ]
  },
  {
   "cell_type": "code",
   "execution_count": 43,
   "metadata": {},
   "outputs": [],
   "source": [
    "latent_dim = 3"
   ]
  },
  {
   "cell_type": "markdown",
   "metadata": {},
   "source": [
    "## 2 - build the Encoder\n",
    "Now, what's pretty cool is the `activity_regularizer` this adds a penality to the loss function at that point.\n",
    "\n",
    "There exists really three locations for this:  \n",
    "* at the kernel (kernel_regularizer)\n",
    "* at the output (activity_regularizer)  \n",
    "* or at the bias (bias_regularizer)\n",
    "\n",
    "**Why do we want to use them?** becuase if we don't, then we are, in essence, just training a NN to be like PCA :/"
   ]
  },
  {
   "cell_type": "code",
   "execution_count": 44,
   "metadata": {},
   "outputs": [
    {
     "name": "stdout",
     "output_type": "stream",
     "text": [
      "Model: \"model_15\"\n",
      "_________________________________________________________________\n",
      "Layer (type)                 Output Shape              Param #   \n",
      "=================================================================\n",
      "input_11 (InputLayer)        [(None, 28, 28, 1)]       0         \n",
      "_________________________________________________________________\n",
      "conv2d_10 (Conv2D)           (None, 26, 26, 8)         80        \n",
      "_________________________________________________________________\n",
      "batch_normalization_12 (Batc (None, 26, 26, 8)         32        \n",
      "_________________________________________________________________\n",
      "conv2d_11 (Conv2D)           (None, 24, 24, 64)        4672      \n",
      "_________________________________________________________________\n",
      "batch_normalization_13 (Batc (None, 24, 24, 64)        256       \n",
      "_________________________________________________________________\n",
      "flatten_5 (Flatten)          (None, 36864)             0         \n",
      "_________________________________________________________________\n",
      "dense_10 (Dense)             (None, 3)                 110595    \n",
      "=================================================================\n",
      "Total params: 115,635\n",
      "Trainable params: 115,491\n",
      "Non-trainable params: 144\n",
      "_________________________________________________________________\n"
     ]
    }
   ],
   "source": [
    "encoder_input = tf.keras.Input(shape=(28, 28, 1))\n",
    "x = layers.Conv2D(filters=8,\n",
    "                  kernel_size=(3,3),\n",
    "                  activation=layers.LeakyReLU(),#='elu'\n",
    "                  #padding = 'same',\n",
    "                  #strides=2\n",
    "                 )(encoder_input)\n",
    "x = layers.BatchNormalization(-1)(x)\n",
    "x = layers.Conv2D(filters=64, \n",
    "                  kernel_size=(3,3),\n",
    "                  #strides=(2, 2), \n",
    "                  activation=layers.LeakyReLU(),\n",
    "                 # padding = 'same'\n",
    "                  #kernel_regularizer=tf.keras.regularizers.l1(10e-5)\n",
    "                 )(x)\n",
    "x = layers.BatchNormalization(-1)(x)\n",
    "x = layers.Flatten()(x)\n",
    "x = layers.Dense(latent_dim, \n",
    "                #activity_regularizer=tf.keras.regularizers.l1(10e-7),\n",
    "                #activation = 'sigmoid'\n",
    "                )(x)\n",
    "Encoder = tf.keras.Model(encoder_input, x)\n",
    "Encoder.summary()"
   ]
  },
  {
   "cell_type": "markdown",
   "metadata": {},
   "source": [
    "## 3 - Build the Decoder"
   ]
  },
  {
   "cell_type": "code",
   "execution_count": 45,
   "metadata": {},
   "outputs": [
    {
     "name": "stdout",
     "output_type": "stream",
     "text": [
      "Model: \"model_16\"\n",
      "_________________________________________________________________\n",
      "Layer (type)                 Output Shape              Param #   \n",
      "=================================================================\n",
      "input_12 (InputLayer)        [(None, 3)]               0         \n",
      "_________________________________________________________________\n",
      "dense_11 (Dense)             (None, 36864)             147456    \n",
      "_________________________________________________________________\n",
      "reshape_5 (Reshape)          (None, 24, 24, 64)        0         \n",
      "_________________________________________________________________\n",
      "conv2d_transpose_14 (Conv2DT (None, 24, 24, 64)        36928     \n",
      "_________________________________________________________________\n",
      "batch_normalization_14 (Batc (None, 24, 24, 64)        256       \n",
      "_________________________________________________________________\n",
      "conv2d_transpose_15 (Conv2DT (None, 26, 26, 8)         4616      \n",
      "_________________________________________________________________\n",
      "batch_normalization_15 (Batc (None, 26, 26, 8)         32        \n",
      "_________________________________________________________________\n",
      "conv2d_transpose_16 (Conv2DT (None, 28, 28, 1)         73        \n",
      "=================================================================\n",
      "Total params: 189,361\n",
      "Trainable params: 189,217\n",
      "Non-trainable params: 144\n",
      "_________________________________________________________________\n"
     ]
    }
   ],
   "source": [
    "decoder_input = tf.keras.Input(shape = Encoder.layers[-1].output.shape[1:])\n",
    "x = layers.Dense(24*24*64, activation =layers.LeakyReLU())(decoder_input)   #(x)\n",
    "x = tf.keras.layers.Reshape(target_shape=(24, 24, 64))(x)\n",
    "x = layers.Conv2DTranspose(\n",
    "                filters=64, \n",
    "                kernel_size=(3,3), \n",
    "                #strides=2,\n",
    "                padding='same',\n",
    "                activation=layers.LeakyReLU())(x)\n",
    "x = layers.BatchNormalization(-1)(x)\n",
    "x = layers.Conv2DTranspose(\n",
    "                filters=8, \n",
    "                kernel_size=(3,3), \n",
    "                #strides=2,\n",
    "#                padding='same',\n",
    "                activation=layers.LeakyReLU())(x)\n",
    "x = layers.BatchNormalization(-1)(x)\n",
    "x = layers.Conv2DTranspose(\n",
    "                filters=1, \n",
    "                kernel_size=(3,3), \n",
    "                #strides=2,\n",
    "#                padding='same',\n",
    "                activation='sigmoid')(x)\n",
    "Decoder = tf.keras.Model(decoder_input, x)\n",
    "Decoder.summary()"
   ]
  },
  {
   "cell_type": "markdown",
   "metadata": {},
   "source": [
    "## 4 - Merging the model together\n",
    "### *Method 1 - subclassing tf.Model*\n",
    "The function below mergers the encoder and decord into one model.\n",
    "the `super(Autoencoder, self)` pulls all the models from the Autoencoder class in tf.Keras.Models, but more importantly **That line HAS TO BE THERE** Don't ask me why, it just does!\n",
    "\n",
    "*muter muter*  \n",
    "\n",
    "the `def call` is what tensorflow looks for when it makes a call to this class.  \n",
    "the `@tf.function` is a tensorflow decorator, for the newest build of TF, you need it, **(maybe, neeed to check on this)** else it will bomb out"
   ]
  },
  {
   "cell_type": "code",
   "execution_count": 46,
   "metadata": {},
   "outputs": [
    {
     "name": "stdout",
     "output_type": "stream",
     "text": [
      "Model: \"auto_encoder_5\"\n",
      "_________________________________________________________________\n",
      "Layer (type)                 Output Shape              Param #   \n",
      "=================================================================\n",
      "model_15 (Functional)        (None, 3)                 115635    \n",
      "_________________________________________________________________\n",
      "model_16 (Functional)        (None, 28, 28, 1)         189361    \n",
      "=================================================================\n",
      "Total params: 304,996\n",
      "Trainable params: 304,708\n",
      "Non-trainable params: 288\n",
      "_________________________________________________________________\n"
     ]
    }
   ],
   "source": [
    "class AutoEncoder(tf.keras.Model):\n",
    "    def __init__(self, encoder, decoder, **kwargs):\n",
    "        super(AutoEncoder, self).__init__(**kwargs)\n",
    "        self.encoder = encoder\n",
    "        self.decoder = decoder\n",
    "        \n",
    "    #@tf.function\n",
    "   \n",
    "    def call(self, inputs, training=None, **kwargs):\n",
    "        x = self.encoder(inputs)\n",
    "        x = self.decoder(x)\n",
    "        return x\n",
    "\n",
    "AE_model = AutoEncoder(Encoder, Decoder)\n",
    "AE_model.build(input_shape = (None,28,28,1))\n",
    "AE_model.summary()\n"
   ]
  },
  {
   "cell_type": "markdown",
   "metadata": {},
   "source": [
    "### *Method 2 - just merging them*\n",
    "Another way to merge them, it's a bit....clearer about what's going on as we don't need to create a class for it"
   ]
  },
  {
   "cell_type": "code",
   "execution_count": 47,
   "metadata": {},
   "outputs": [
    {
     "name": "stdout",
     "output_type": "stream",
     "text": [
      "Model: \"model_17\"\n",
      "_________________________________________________________________\n",
      "Layer (type)                 Output Shape              Param #   \n",
      "=================================================================\n",
      "input_11 (InputLayer)        [(None, 28, 28, 1)]       0         \n",
      "_________________________________________________________________\n",
      "model_15 (Functional)        (None, 3)                 115635    \n",
      "_________________________________________________________________\n",
      "model_16 (Functional)        (None, 28, 28, 1)         189361    \n",
      "=================================================================\n",
      "Total params: 304,996\n",
      "Trainable params: 304,708\n",
      "Non-trainable params: 288\n",
      "_________________________________________________________________\n"
     ]
    }
   ],
   "source": [
    "aem = tf.keras.Model(encoder_input, Decoder(Encoder(encoder_input)))\n",
    "aem.summary()"
   ]
  },
  {
   "cell_type": "markdown",
   "metadata": {},
   "source": [
    "# 5 - Defining Loss and compiling them"
   ]
  },
  {
   "cell_type": "code",
   "execution_count": 48,
   "metadata": {},
   "outputs": [],
   "source": [
    "aem.compile(optimizer =  tf.optimizers.Adam(),\n",
    "              loss = 'binary_crossentropy', #You can also use MSE  or MSA here\n",
    "              metrics=['mse'])\n",
    "\n",
    "AE_model.compile(optimizer =  tf.optimizers.Adam(),\n",
    "                loss = 'MSE',\n",
    "                metrics = ['mse'])\n"
   ]
  },
  {
   "cell_type": "markdown",
   "metadata": {},
   "source": [
    "# 6 - Training"
   ]
  },
  {
   "cell_type": "code",
   "execution_count": 49,
   "metadata": {},
   "outputs": [
    {
     "name": "stderr",
     "output_type": "stream",
     "text": [
      "W0115 22:38:52.727102 140581375698752 ag_logging.py:146] AutoGraph could not transform <function Model.make_train_function.<locals>.train_function at 0x7fdb16470158> and will run it as-is.\n",
      "Please report this to the TensorFlow team. When filing the bug, set the verbosity to 10 (on Linux, `export AUTOGRAPH_VERBOSITY=10`) and attach the full output.\n",
      "Cause: 'arguments' object has no attribute 'posonlyargs'\n",
      "To silence this warning, decorate the function with @tf.autograph.experimental.do_not_convert\n"
     ]
    },
    {
     "name": "stdout",
     "output_type": "stream",
     "text": [
      "Epoch 1/25\n",
      "WARNING: AutoGraph could not transform <function Model.make_train_function.<locals>.train_function at 0x7fdb16470158> and will run it as-is.\n",
      "Please report this to the TensorFlow team. When filing the bug, set the verbosity to 10 (on Linux, `export AUTOGRAPH_VERBOSITY=10`) and attach the full output.\n",
      "Cause: 'arguments' object has no attribute 'posonlyargs'\n",
      "To silence this warning, decorate the function with @tf.autograph.experimental.do_not_convert\n",
      "60/60 [==============================] - ETA: 0s - loss: 0.5346 - mse: 0.0909"
     ]
    },
    {
     "name": "stderr",
     "output_type": "stream",
     "text": [
      "W0115 22:38:58.079265 140581375698752 ag_logging.py:146] AutoGraph could not transform <function Model.make_test_function.<locals>.test_function at 0x7fdae035e0d0> and will run it as-is.\n",
      "Please report this to the TensorFlow team. When filing the bug, set the verbosity to 10 (on Linux, `export AUTOGRAPH_VERBOSITY=10`) and attach the full output.\n",
      "Cause: 'arguments' object has no attribute 'posonlyargs'\n",
      "To silence this warning, decorate the function with @tf.autograph.experimental.do_not_convert\n"
     ]
    },
    {
     "name": "stdout",
     "output_type": "stream",
     "text": [
      "WARNING: AutoGraph could not transform <function Model.make_test_function.<locals>.test_function at 0x7fdae035e0d0> and will run it as-is.\n",
      "Please report this to the TensorFlow team. When filing the bug, set the verbosity to 10 (on Linux, `export AUTOGRAPH_VERBOSITY=10`) and attach the full output.\n",
      "Cause: 'arguments' object has no attribute 'posonlyargs'\n",
      "To silence this warning, decorate the function with @tf.autograph.experimental.do_not_convert\n",
      "60/60 [==============================] - 6s 87ms/step - loss: 0.5337 - mse: 0.0905 - val_loss: 0.5905 - val_mse: 0.1202\n",
      "Epoch 2/25\n",
      "60/60 [==============================] - 5s 85ms/step - loss: 0.3974 - mse: 0.0426 - val_loss: 0.5742 - val_mse: 0.1166\n",
      "Epoch 3/25\n",
      "60/60 [==============================] - 5s 85ms/step - loss: 0.3401 - mse: 0.0297 - val_loss: 0.5583 - val_mse: 0.1151\n",
      "Epoch 4/25\n",
      "60/60 [==============================] - 5s 85ms/step - loss: 0.3294 - mse: 0.0283 - val_loss: 0.5345 - val_mse: 0.1095\n",
      "Epoch 5/25\n",
      "60/60 [==============================] - 5s 85ms/step - loss: 0.3238 - mse: 0.0273 - val_loss: 0.5510 - val_mse: 0.1137\n",
      "Epoch 6/25\n",
      "60/60 [==============================] - 5s 85ms/step - loss: 0.3225 - mse: 0.0269 - val_loss: 0.5349 - val_mse: 0.0999\n",
      "Epoch 7/25\n",
      "60/60 [==============================] - 5s 85ms/step - loss: 0.3207 - mse: 0.0263 - val_loss: 0.5366 - val_mse: 0.0931\n",
      "Epoch 8/25\n",
      "60/60 [==============================] - 5s 85ms/step - loss: 0.3191 - mse: 0.0259 - val_loss: 0.5584 - val_mse: 0.0901\n",
      "Epoch 9/25\n",
      "60/60 [==============================] - 5s 85ms/step - loss: 0.3187 - mse: 0.0258 - val_loss: 0.5119 - val_mse: 0.0805\n",
      "Epoch 10/25\n",
      "60/60 [==============================] - 5s 85ms/step - loss: 0.3173 - mse: 0.0253 - val_loss: 0.5408 - val_mse: 0.0791\n",
      "Epoch 11/25\n",
      "60/60 [==============================] - 5s 85ms/step - loss: 0.3166 - mse: 0.0254 - val_loss: 0.5402 - val_mse: 0.0782\n",
      "Epoch 12/25\n",
      "60/60 [==============================] - 5s 85ms/step - loss: 0.3165 - mse: 0.0252 - val_loss: 0.5295 - val_mse: 0.0783\n",
      "Epoch 13/25\n",
      "60/60 [==============================] - 5s 85ms/step - loss: 0.3159 - mse: 0.0250 - val_loss: 0.5144 - val_mse: 0.0742\n",
      "Epoch 14/25\n",
      "60/60 [==============================] - 5s 85ms/step - loss: 0.3157 - mse: 0.0249 - val_loss: 0.5168 - val_mse: 0.0767\n",
      "Epoch 15/25\n",
      "60/60 [==============================] - 5s 85ms/step - loss: 0.3152 - mse: 0.0248 - val_loss: 0.5355 - val_mse: 0.0752\n",
      "Epoch 16/25\n",
      "60/60 [==============================] - 5s 85ms/step - loss: 0.3147 - mse: 0.0248 - val_loss: 0.5089 - val_mse: 0.0786\n",
      "Epoch 17/25\n",
      "60/60 [==============================] - 5s 85ms/step - loss: 0.3147 - mse: 0.0247 - val_loss: 0.5155 - val_mse: 0.0735\n",
      "Epoch 18/25\n",
      "60/60 [==============================] - 5s 85ms/step - loss: 0.3145 - mse: 0.0247 - val_loss: 0.5605 - val_mse: 0.0828\n",
      "Epoch 19/25\n",
      "60/60 [==============================] - 5s 85ms/step - loss: 0.3143 - mse: 0.0246 - val_loss: 0.5456 - val_mse: 0.0833\n",
      "Epoch 20/25\n",
      "60/60 [==============================] - 5s 85ms/step - loss: 0.3144 - mse: 0.0246 - val_loss: 0.5261 - val_mse: 0.0757\n",
      "Epoch 21/25\n",
      "60/60 [==============================] - 5s 85ms/step - loss: 0.3137 - mse: 0.0245 - val_loss: 0.5581 - val_mse: 0.0780\n",
      "Epoch 22/25\n",
      "60/60 [==============================] - 5s 85ms/step - loss: 0.3139 - mse: 0.0246 - val_loss: 0.5385 - val_mse: 0.0794\n",
      "Epoch 23/25\n",
      "60/60 [==============================] - 5s 85ms/step - loss: 0.3142 - mse: 0.0245 - val_loss: 0.5436 - val_mse: 0.0777\n",
      "Epoch 24/25\n",
      "60/60 [==============================] - 5s 85ms/step - loss: 0.3121 - mse: 0.0241 - val_loss: 0.5626 - val_mse: 0.0804\n",
      "Epoch 25/25\n",
      "60/60 [==============================] - 5s 86ms/step - loss: 0.3128 - mse: 0.0243 - val_loss: 0.5435 - val_mse: 0.0714\n"
     ]
    }
   ],
   "source": [
    "Hist = aem.fit(DG_train, \n",
    "                  epochs = 25,\n",
    "                  validation_data = DG_test)"
   ]
  },
  {
   "cell_type": "markdown",
   "metadata": {},
   "source": [
    "# 7 - Looking at how well it did"
   ]
  },
  {
   "cell_type": "code",
   "execution_count": 50,
   "metadata": {},
   "outputs": [
    {
     "name": "stderr",
     "output_type": "stream",
     "text": [
      "W0115 22:41:03.352010 140581375698752 ag_logging.py:146] AutoGraph could not transform <function Model.make_predict_function.<locals>.predict_function at 0x7fdb6566b840> and will run it as-is.\n",
      "Please report this to the TensorFlow team. When filing the bug, set the verbosity to 10 (on Linux, `export AUTOGRAPH_VERBOSITY=10`) and attach the full output.\n",
      "Cause: 'arguments' object has no attribute 'posonlyargs'\n",
      "To silence this warning, decorate the function with @tf.autograph.experimental.do_not_convert\n"
     ]
    },
    {
     "name": "stdout",
     "output_type": "stream",
     "text": [
      "WARNING: AutoGraph could not transform <function Model.make_predict_function.<locals>.predict_function at 0x7fdb6566b840> and will run it as-is.\n",
      "Please report this to the TensorFlow team. When filing the bug, set the verbosity to 10 (on Linux, `export AUTOGRAPH_VERBOSITY=10`) and attach the full output.\n",
      "Cause: 'arguments' object has no attribute 'posonlyargs'\n",
      "To silence this warning, decorate the function with @tf.autograph.experimental.do_not_convert\n"
     ]
    },
    {
     "data": {
      "image/png": "[encoded data removed]",
      "text/plain": [
       "<Figure size 1440x288 with 20 Axes>"
      ]
     },
     "metadata": {
      "needs_background": "light"
     },
     "output_type": "display_data"
    }
   ],
   "source": [
    "decoded_imgs = aem.predict(x_test/255.0)\n",
    "n = 10\n",
    "plt.figure(figsize=(20, 4))\n",
    "for i in range(1, n + 1):\n",
    "    # Display original\n",
    "    ax = plt.subplot(2, n, i)\n",
    "    plt.imshow(x_test[i].reshape(28, 28))\n",
    "    plt.gray()\n",
    "    ax.get_xaxis().set_visible(False)\n",
    "    ax.get_yaxis().set_visible(False)\n",
    "\n",
    "    # Display reconstruction\n",
    "    ax = plt.subplot(2, n, i + n)\n",
    "    plt.imshow(decoded_imgs[i].reshape(28, 28))\n",
    "    plt.gray()\n",
    "    ax.get_xaxis().set_visible(False)\n",
    "    ax.get_yaxis().set_visible(False)\n",
    "plt.show()\n"
   ]
  },
  {
   "cell_type": "code",
   "execution_count": 51,
   "metadata": {},
   "outputs": [
    {
     "data": {
      "image/png": "[encoded data removed]",
      "text/plain": [
       "<Figure size 432x288 with 1 Axes>"
      ]
     },
     "metadata": {
      "needs_background": "light"
     },
     "output_type": "display_data"
    },
    {
     "data": {
      "text/plain": [
       "<Figure size 432x288 with 0 Axes>"
      ]
     },
     "metadata": {},
     "output_type": "display_data"
    },
    {
     "data": {
      "image/png": "[encoded data removed]",
      "text/plain": [
       "<Figure size 432x288 with 1 Axes>"
      ]
     },
     "metadata": {
      "needs_background": "light"
     },
     "output_type": "display_data"
    },
    {
     "data": {
      "text/plain": [
       "<Figure size 432x288 with 0 Axes>"
      ]
     },
     "metadata": {},
     "output_type": "display_data"
    }
   ],
   "source": [
    "Plot_Val_Test(Hist, 'mse')\n",
    "\n",
    "Plot_Val_Test(Hist,'loss')"
   ]
  },
  {
   "cell_type": "code",
   "execution_count": null,
   "metadata": {},
   "outputs": [],
   "source": []
  }
 ],
 "metadata": {
  "kernelspec": {
   "display_name": "Python 3",
   "language": "python",
   "name": "python3"
  },
  "language_info": {
   "codemirror_mode": {
    "name": "ipython",
    "version": 3
   },
   "file_extension": ".py",
   "mimetype": "text/x-python",
   "name": "python",
   "nbconvert_exporter": "python",
   "pygments_lexer": "ipython3",
   "version": "3.6.9"
  }
 },
 "nbformat": 4,
 "nbformat_minor": 4
}
