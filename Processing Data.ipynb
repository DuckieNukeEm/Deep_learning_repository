{
 "cells": [
  {
   "cell_type": "markdown",
   "metadata": {},
   "source": [
    "# Fixing Data Sets"
   ]
  },
  {
   "cell_type": "code",
   "execution_count": 2,
   "metadata": {},
   "outputs": [],
   "source": [
    "import numpy as np\n",
    "import matplotlib.pyplot as plt"
   ]
  },
  {
   "cell_type": "code",
   "execution_count": 3,
   "metadata": {},
   "outputs": [],
   "source": [
    "\n",
    "def save_csv(X, path_len, headers):\n",
    "    with open( path_len, 'wb') as f:\n",
    "        f.write(str.encode(','.join(headers)))\n",
    "        #f.write(bytes(\"SP,\"+lists+\"\\n\",\"UTF-8\"))\n",
    "        #Used this line for a variable list of numbers\n",
    "        np.savetxt(f, X.astype('uint8'),  fmt='%i',delimiter = ',')\n",
    "        \n",
    "def save_np(X, path):\n",
    "    with open(path, 'wb') as f:\n",
    "        np.save(f, X.astype('uint8'))"
   ]
  },
  {
   "cell_type": "markdown",
   "metadata": {},
   "source": [
    "# Minst-Digits"
   ]
  },
  {
   "cell_type": "code",
   "execution_count": 6,
   "metadata": {},
   "outputs": [],
   "source": [
    "x_test = np.load(\"Data/mnist_digit/x_test.npy\")\n",
    "x_train = np.load(\"Data/mnist_digit/x_train.npy\")\n",
    "y_test = np.load(\"Data/mnist_digit/y_test.npy\")\n",
    "y_train = np.load(\"Data/mnist_digit/y_train.npy\")"
   ]
  },
  {
   "cell_type": "code",
   "execution_count": 7,
   "metadata": {},
   "outputs": [
    {
     "data": {
      "text/plain": [
       "<matplotlib.image.AxesImage at 0x7fb0187375b0>"
      ]
     },
     "execution_count": 7,
     "metadata": {},
     "output_type": "execute_result"
    },
    {
     "data": {
      "image/png": "[encoded data removed]",
      "text/plain": [
       "<Figure size 432x288 with 1 Axes>"
      ]
     },
     "metadata": {
      "needs_background": "light"
     },
     "output_type": "display_data"
    }
   ],
   "source": [
    "plt.imshow(x_test[1,:,:])"
   ]
  },
  {
   "cell_type": "code",
   "execution_count": 8,
   "metadata": {},
   "outputs": [],
   "source": [
    "Train = np.concatenate([y_train.reshape((y_train.shape[0],1)), x_train.reshape((x_train.shape[0], 784))], axis = 1).astype('uint8')\n",
    "Test = np.concatenate([y_test.reshape((y_test.shape[0],1)), x_test.reshape((x_test.shape[0], 784))], axis = 1).astype('uint8')"
   ]
  },
  {
   "cell_type": "code",
   "execution_count": 11,
   "metadata": {},
   "outputs": [],
   "source": [
    "headers = ['y'] + ['x_'+str(i) for i in np.arange(748)]\n",
    "save_csv(Train, \"Data/mnist_digit/Train.csv\", headers)\n",
    "save_csv(Test, \"Data/mnist_digit/Test.csv\", headers)"
   ]
  },
  {
   "cell_type": "markdown",
   "metadata": {},
   "source": [
    "# Minst Fashion\n",
    "\n",
    "\n",
    "|Label    |Description    |\n",
    "|:--------|:--------------|\n",
    "|0|T-shirt/top|\n",
    "|1|Trouser|\n",
    "|2|Pullover|\n",
    "|3|Dress|\n",
    "|4|Coat|\n",
    "|5|Sandal|\n",
    "|6|Shirt|\n",
    "|7|Sneaker|\n",
    "|8|Bag|\n",
    "|9|Ankle boot|"
   ]
  },
  {
   "cell_type": "code",
   "execution_count": 12,
   "metadata": {},
   "outputs": [],
   "source": [
    "\n",
    "def load_mnist(path, kind='train'):\n",
    "    import os\n",
    "    import gzip\n",
    "    import numpy as np\n",
    "\n",
    "    \"\"\"Load MNIST data from `path`\"\"\"\n",
    "    labels_path = os.path.join(path,\n",
    "                               '%s-labels-idx1-ubyte.gz'\n",
    "                               % kind)\n",
    "    images_path = os.path.join(path,\n",
    "                               '%s-images-idx3-ubyte.gz'\n",
    "                               % kind)\n",
    "\n",
    "    with gzip.open(labels_path, 'rb') as lbpath:\n",
    "        labels = np.frombuffer(lbpath.read(), dtype=np.uint8,\n",
    "                               offset=8)\n",
    "\n",
    "    with gzip.open(images_path, 'rb') as imgpath:\n",
    "        images = np.frombuffer(imgpath.read(), dtype=np.uint8,\n",
    "                               offset=16).reshape(len(labels), 784)\n",
    "\n",
    "    return images, labels"
   ]
  },
  {
   "cell_type": "code",
   "execution_count": 14,
   "metadata": {},
   "outputs": [],
   "source": [
    "X_train, Y_train = load_mnist('Data/mnist_fashion/', kind='train')\n",
    "Train = np.concatenate([Y_train.reshape((Y_train.shape[0],1)), X_train], axis = 1)\n",
    "\n",
    "X_test, Y_test = load_mnist('Data/mnist_fashion/', kind='t10k')\n",
    "Test = np.concatenate([Y_test.reshape((Y_test.shape[0],1)), X_test], axis = 1)"
   ]
  },
  {
   "cell_type": "markdown",
   "metadata": {},
   "source": [
    "Saving files down as CSV"
   ]
  },
  {
   "cell_type": "code",
   "execution_count": 15,
   "metadata": {},
   "outputs": [],
   "source": [
    "headers = ['y'] + ['x_'+str(i) for i in np.arange(748)]\n",
    "save_csv(Train, \"Data/mnist_fashion/Train.csv\", headers )\n",
    "save_csv(Test, \"Data/mnist_fashion/Test.csv\", headers)"
   ]
  },
  {
   "cell_type": "markdown",
   "metadata": {},
   "source": [
    "Now saving as numpy array"
   ]
  },
  {
   "cell_type": "code",
   "execution_count": 16,
   "metadata": {},
   "outputs": [],
   "source": [
    "save_np(X_train.reshape((X_train.shape[0],28,28)), 'Data/mnist_fashion/x_train.npy')\n",
    "save_np(Y_train.reshape((Y_train.shape[0],1)), 'Data/mnist_fashion/y_train.npy')\n",
    "save_np(X_test.reshape((X_test.shape[0],28,28)), 'Data/mnist_fashion/x_test.npy')\n",
    "save_np(Y_test.reshape((Y_test.shape[0],1)), 'Data/mnist_fashion/y_test.npy')"
   ]
  },
  {
   "cell_type": "code",
   "execution_count": 17,
   "metadata": {},
   "outputs": [
    {
     "data": {
      "text/plain": [
       "<matplotlib.image.AxesImage at 0x7fb0061ebfa0>"
      ]
     },
     "execution_count": 17,
     "metadata": {},
     "output_type": "execute_result"
    },
    {
     "data": {
      "image/png": "[encoded data removed]",
      "text/plain": [
       "<Figure size 432x288 with 1 Axes>"
      ]
     },
     "metadata": {
      "needs_background": "light"
     },
     "output_type": "display_data"
    }
   ],
   "source": [
    "plt.imshow(X_train[10,:].reshape((28,28)))"
   ]
  },
  {
   "cell_type": "markdown",
   "metadata": {},
   "source": [
    "# Minst Rock Paper Scissors\n"
   ]
  },
  {
   "cell_type": "code",
   "execution_count": 22,
   "metadata": {},
   "outputs": [],
   "source": [
    "Test = np.loadtxt('Data/mnist_rps/sign_mnist_test.csv',delimiter = ',', skiprows=1)\n",
    "Train = np.loadtxt('Data/mnist_rps/sign_mnist_train.csv', delimiter=',', skiprows=1)"
   ]
  },
  {
   "cell_type": "code",
   "execution_count": 25,
   "metadata": {},
   "outputs": [],
   "source": [
    "x_test = Test[:,1:].reshape((Test.shape[0],28,28))\n",
    "y_test = Test[:,1].reshape((Test.shape[0],1))\n",
    "\n",
    "x_train = Train[:,1:].reshape((Train.shape[0],28,28))\n",
    "y_train = Train[:,1].reshape((Train.shape[0],1))\n"
   ]
  },
  {
   "cell_type": "code",
   "execution_count": 30,
   "metadata": {},
   "outputs": [
    {
     "data": {
      "text/plain": [
       "<matplotlib.image.AxesImage at 0x7fafe76b7850>"
      ]
     },
     "execution_count": 30,
     "metadata": {},
     "output_type": "execute_result"
    },
    {
     "data": {
      "image/png": "[encoded data removed]",
      "text/plain": [
       "<Figure size 432x288 with 1 Axes>"
      ]
     },
     "metadata": {
      "needs_background": "light"
     },
     "output_type": "display_data"
    }
   ],
   "source": [
    "plt.imshow(x_train[5,:,:])"
   ]
  },
  {
   "cell_type": "code",
   "execution_count": 31,
   "metadata": {},
   "outputs": [],
   "source": [
    "save_np(x_train, 'Data/mnist_rps/x_train.npy')\n",
    "save_np(y_train, 'Data/mnist_rps/y_train.npy')\n",
    "save_np(x_test, 'Data/mnist_rps/x_test.npy')\n",
    "save_np(y_test, 'Data/mnist_rps/y_test.npy')"
   ]
  },
  {
   "cell_type": "code",
   "execution_count": null,
   "metadata": {},
   "outputs": [],
   "source": []
  }
 ],
 "metadata": {
  "kernelspec": {
   "display_name": "Python 3",
   "language": "python",
   "name": "python3"
  },
  "language_info": {
   "codemirror_mode": {
    "name": "ipython",
    "version": 3
   },
   "file_extension": ".py",
   "mimetype": "text/x-python",
   "name": "python",
   "nbconvert_exporter": "python",
   "pygments_lexer": "ipython3",
   "version": "3.8.5"
  }
 },
 "nbformat": 4,
 "nbformat_minor": 4
}
