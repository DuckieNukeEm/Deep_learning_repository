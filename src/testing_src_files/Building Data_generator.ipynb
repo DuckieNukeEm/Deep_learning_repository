{
 "cells": [
  {
   "cell_type": "markdown",
   "metadata": {},
   "source": [
    "# Building Data generator"
   ]
  },
  {
   "cell_type": "code",
   "execution_count": 1,
   "metadata": {},
   "outputs": [],
   "source": [
    "import pandas as pd\n",
    "import numpy as np\n",
    "from typing import Union\n",
    "from tensorflow.keras.utils import Sequence, to_categorical # For our own data generator\n",
    "import cv2 # For image processing\n",
    "import matplotlib.pyplot as plt # for showing the val vs train model\n",
    "from tensorflow.keras.callbacks import ModelCheckpoint"
   ]
  },
  {
   "cell_type": "code",
   "execution_count": 3,
   "metadata": {},
   "outputs": [],
   "source": [
    "\n",
    "\n",
    "def flip_vertical(img, v_flip_chance):\n",
    "    \"\"\"Flips and image on a  vertica axis,\n",
    "    Arguments:\n",
    "        img - img to flip\n",
    "        v_flip_chance {int} - the probability of an image should be flipped\n",
    "    \n",
    "    Details:\n",
    "        if set to zero, will never flip the image\n",
    "    \n",
    "    Returns:\n",
    "        np.array\n",
    "    \"\"\"\n",
    "    if v_flip_change <= 0:\n",
    "        return(img)\n",
    "    elif 1 - v_flip_chance < np.random.uniform():\n",
    "        img = cv2.flip(img,1)\n",
    "        return(img)\n",
    "    else:\n",
    "        return(img)\n",
    "\n",
    "def flip_horizontal(img, h_flip_chance):\n",
    "    \"\"\"Flips ad image on a horizontal axis,\n",
    "    Arguments:\n",
    "        img {np.array} - img to flip\n",
    "        h_flip_chance {float} - the probabilty of an image to be flipped\n",
    "    \n",
    "    Details:\n",
    "        if set to zero, will never flip the image\n",
    "    \n",
    "    Returns:\n",
    "        np.array\n",
    "    \"\"\"\n",
    "    if h_flip_chance <= 0:\n",
    "        return(img)\n",
    "    elif 1 - h_flip_chance < np.random.uniform():\n",
    "        img = cv2.flip(img,0)\n",
    "        return(img)\n",
    "    else:\n",
    "        return(img)\n",
    "\n",
    "def rotate(img, rotate_prob, rotate_degree):\n",
    "    \"\"\"rotates an image around the central point\n",
    "    \n",
    "    ARguments:\n",
    "        img - the image to rotate\n",
    "        rotate_prob {float} -- the probability of an image to be rotated\n",
    "        rotate_degree {float} -- the highest degree to rotate by\n",
    "        \n",
    "    Details:\n",
    "        if rotate_prob <=0, then it will never rotate\n",
    "    \n",
    "    returns\n",
    "        img (np.array)\n",
    "    \n",
    "    \"\"\"\n",
    "    if rotate_prob <= 0:\n",
    "        return(img)\n",
    "    if 1 - rotate_prob < np.random.uniform():\n",
    "        rows, cols = img.shape[0], img.shape[1]\n",
    "        #TODO allow a rotation both forward and backwards\n",
    "        Rot_M = cv2.getRotationMatrix2D((cols / 2, rows / 2), np.random.uniform(rotate_degree), 1)\n",
    "        img = cv2.warpAffine(img, Rot_M, (cols, rows))\n",
    "        return(img)\n",
    "    else:\n",
    "        return(img)\n",
    "\n",
    "def shear(img, shear_prob, shear_factor):\n",
    "    \"\"\"shears an image\n",
    "    \n",
    "    Arguments:\n",
    "        img - the image to shear\n",
    "        shear_prob {float} - the probability of shearing an image\n",
    "        shear_factor {float} - upto the factor to shear by\n",
    "    \n",
    "    Detailts:\n",
    "        if shear_prob <= 0, then no shearing will be done\n",
    "    \n",
    "    Source:\n",
    "        https://blog.paperspace.com/data-augmentation-for-object-detection-rotation-and-shearing/\n",
    "        \n",
    "    Return\n",
    "        img - a numpy array\n",
    "    \"\"\"\n",
    "    if shear_prob <= 0:\n",
    "        return(img)\n",
    "    elif 1 - shear_prob < np.random.uniform():\n",
    "        #TODO allow a shear both forward and backwards\n",
    "        rows, cols = img.shape[0], img.shape[1]\n",
    "\n",
    "        shear_factor = np.random.uniform(shear_factor)\n",
    "\n",
    "        M = np.array([[1, shear_factor, 0],[0,1,0]])\n",
    "        nW =  img.shape[1] + abs(shear_factor*img.shape[0])\n",
    "        img = cv2.warpAffine(img, M, (int(nW), img.shape[0]))\n",
    "        img = cv2.resize(img, (cols,rows))\n",
    "        return(img)\n",
    "    else:\n",
    "        return(img)\n",
    "\n",
    "def noise(img, \n",
    "          Mu: float, \n",
    "          Std: float,\n",
    "          Dim: tuple, \n",
    "          Min_value: int = 0,\n",
    "          Max_value: int = 255): # noise_std, noise_mu, dim\n",
    "    \"\"\"adds random noise to an image\n",
    "    \n",
    "    Arguments:\n",
    "        img - img to add noise too\n",
    "        Mu {float} - the mean value of the noise of a gaussian distirbution\n",
    "        Std {float} - the STD of the guassian distribution for noise generation\n",
    "        Dim {int) - the number of dimensions to add noise too\n",
    "        Min_value {int} - minmum value of noise\n",
    "        Max_value {int} - max value of noise\n",
    "    Details:\n",
    "        if Std is zero, then no noise will be added\n",
    "        \n",
    "    Returns\n",
    "        img - np array\n",
    "    \"\"\"\n",
    "    gaussian = np.random.normal(Mu,Std,Dim)\n",
    "\n",
    "    #adding limit to it\n",
    "    gaussian[gaussian < Min_value] = Min_value\n",
    "    gaussian[gaussian > Max_value] = Max_value\n",
    "    img = img + gaussian\n",
    "    return(img)\n",
    "\n",
    "\n",
    "def start_burst(img,\n",
    "                Number: int,\n",
    "                decay: float):\n",
    "    \"\"\"Like noise, but creates starburst noise in localized aresa\n",
    "    \n",
    "    Arguments:\n",
    "        img - img to add starburst too (can also by any diminsion)\n",
    "        \n",
    "    \n",
    "    \"\"\"\n",
    "    #Creating spark image\n",
    "    if number = 3:\n",
    "        g_array = [0.3,1.0,0.3]\n",
    "    if number = 4:\n",
    "    spark = numpyarray\n",
    "\n",
    "\n",
    "def plot(self, img_idx):\n",
    "    plt.imshow(self.x[img_idx,])"
   ]
  },
  {
   "cell_type": "code",
   "execution_count": 317,
   "metadata": {},
   "outputs": [],
   "source": [
    "class DataGenerator_array(Sequence):\n",
    "    \"\"\"Generates data for Keras\n",
    "    Sequence based data generator. Suitable for building data generator for training and prediction.\n",
    "    #https://towardsdatascience.com/keras-data-generators-and-how-to-use-them-b69129ed779c\n",
    "    \"\"\"\n",
    "    def __init__(self,\n",
    "                 x: Union[pd.DataFrame, np.array],\n",
    "                 y: Union[pd.DataFrame, np.array] = None, #'grapheme_root','vowel_diacritic','consonant_diacritic' \n",
    "                 encoder: bool = None,\n",
    "                 to_fit: bool =True,\n",
    "                 batch_size: int = 32,\n",
    "                 dim: tuple = (90,160),\n",
    "                 channels: int = 1,\n",
    "                 vertical_flip: float = 0,\n",
    "                 horizontal_flip: float = 0,\n",
    "                 rotate: tuple = (0,0), #Prob, max roatioan\n",
    "                 shear: tuple = (0,0),  #prob, max_shear\n",
    "                 noise: tuple = (0,0), #mean, STD (127, 40)\n",
    "                 scale: float = 255.0,\n",
    "                 shuffle: bool =True,\n",
    "                 reduce_float: bool = True,\n",
    "                 sample_classes: int = 0,\n",
    "                 save_model_path: bool = None):\n",
    "        \"\"\"Initialization of the DataGenerator Glass\n",
    "        \n",
    "        Arguments:\n",
    "            x - {DataFrame/Array} - the array/dataframe of the dependant images \n",
    "            y_var - {Dataframe/Array} - the column name/index of the y-var\n",
    "            encoder - {bool} - should the Y var be encoded\n",
    "            to_fit - {bool} - if using to fit the model, should it return the y-value as well?\n",
    "            batch_size - {int} - size of batches to deliver\n",
    "            dim - {tuple} - dimension of the images (regardless of the color scale)\n",
    "            channels - {int} - the number of color channels (generally 1 or 3)\n",
    "            vertical_flip - {float} - The percent chance to flip a photo along a vertical axis\n",
    "            horizontal_flip - (float) - The percent chance to flip a photo along a horiszontal axis\n",
    "            rotate - (tuple - (prob, degree)) - A tuple of two:\n",
    "                                                    1) the % chance of rotate\n",
    "                                                    2) The amount of rotation\n",
    "            shear - (tuple - (prob, amt)) - A two of two:\n",
    "                                                    1) The % chance of shear\n",
    "                                                    2) The amount of shear\n",
    "            noise - {tuple - (mean, std)} - adding noise to an image\n",
    "            scale - {float,int} - the value to scale the image buy\n",
    "            shuffle - {bool} - shuffle label indexes after every epoch\n",
    "            reduce_float - {bool} - downsample from float64 to float32\n",
    "            sample_classes - {bool} - random samle n number from each class\n",
    "        \"\"\"\n",
    "        \n",
    "        #Getting Index that we will use to sort\n",
    "        \n",
    "        self.Idx_List = np.arange(x.shape[0])\n",
    "        \n",
    "        self.x = x\n",
    "        \n",
    "        # Loading y_Vars\n",
    "        self.y = y\n",
    "            \n",
    "                \n",
    "        \n",
    "        #Setting other vars\n",
    "        self.batch_size = batch_size\n",
    "        self.fit = to_fit\n",
    "        \n",
    "        self.class_samp = sample_classes\n",
    "        if self.class_samp > 0:            \n",
    "            self.sample_class()\n",
    "            \n",
    "        self.shuffle = shuffle\n",
    "        if self.shuffle:\n",
    "            np.random.shuffle(self.Idx_List)\n",
    "            \n",
    "        self.dim = dim\n",
    "        self.channels = channels\n",
    "        if self.channels == 1:\n",
    "            self.read_mode = cv2.IMREAD_GRAYSCALE\n",
    "        elif self.channels == 3:\n",
    "            self.read_mode = cv2.IMREAD_COLOR\n",
    "        else:\n",
    "            self.read_mode = cv2.IMREAD_UNCHANGED\n",
    "        \n",
    "        self.scale = scale\n",
    "        self.float32 = reduce_float\n",
    "        \n",
    "        #Checks!\n",
    "        assert 0 <= vertical_flip <=1, \"vertical_flip = {}, which is not between 0 or 1\".format(vertical_flip)\n",
    "        self.v_flip = vertical_flip\n",
    "        \n",
    "        assert 0 <= horizontal_flip <=1, \"horizontal_flip = {}, which is not between 0 or 1\".format(horizontal_flip)\n",
    "        self.h_flip = horizontal_flip\n",
    "        \n",
    "        assert 0 <= rotate[0] <=1, \"first value of rotate = {}, which is not between 0 or 1\".format(rotate[0])\n",
    "        self.r_prob = rotate[0]\n",
    "        assert 0 <= rotate[1] < 360, \"second value of rotate = {}, which is not between 0 or 359\".format(rotate[1])\n",
    "        self.r_deg = rotate[1]\n",
    "        \n",
    "        assert 0 <= shear[0] <=1, \"first value of shear = {}, which is not between 0 or 1\".format(shear[0])\n",
    "        self.s_prob = shear[0]\n",
    "        \n",
    "        assert 0 <= shear[1] <=359, \"first value of shear = {}, which is not between 0 or 359\".format(shear[1])\n",
    "        self.s_fact = shear[1]\n",
    "        \n",
    "        self.noise_mu = noise[0]\n",
    "        self.noise_std = noise[1]\n",
    "\n",
    "        self.save_model(save_model_path)\n",
    "        #self.on_epoch_end()\n",
    "        \n",
    "    def __len__(self):\n",
    "        \"\"\"Denotes the number of batches per epoch\n",
    "        Returns:\n",
    "            int\n",
    "        \"\"\"\n",
    "        return int(np.floor(len(self.Idx_List) / self.batch_size))\n",
    "\n",
    "    def __getitem__(self, index: np.array):\n",
    "        \"\"\"returns one batch at given index for the data\n",
    "        \n",
    "        Arguments:\n",
    "             index - {array} the index of the batch\n",
    "        \n",
    "        Returns: \n",
    "            tuples\n",
    "            (x,)  when to_fit is false\n",
    "            or\n",
    "            (x,y,None) when to_Fit is true\n",
    "        \"\"\"\n",
    "        # Generate indexes of the batch\n",
    "        Batch_Idx = self.Idx_List[index * self.batch_size:(index + 1) * self.batch_size]\n",
    "\n",
    "\n",
    "        # Generate data\n",
    "        X = self._generate_X(Batch_Idx)\n",
    "\n",
    "        if self.fit:\n",
    "            y = self._generate_y(Batch_Idx)\n",
    "            return X, y\n",
    "        else:\n",
    "            return X\n",
    "        \n",
    "    #TODO add a def __iter__ and __next__ methodology so we can loop through it!\n",
    "\n",
    "    def on_epoch_end(self):\n",
    "        \"\"\"Updates indexes after each epoch\n",
    "        \"\"\"\n",
    "        #self.indexes = np.arange(len(self.list_IDs))\n",
    "        self.sample_class()\n",
    "        if self.shuffle == True:\n",
    "            np.random.shuffle(self.Idx_List)\n",
    "        if self.save_path is not None:\n",
    "            #self.save_chkpoint()\n",
    "            self.save_model()\n",
    "        \n",
    "    def sample_class(self):\n",
    "        \"\"\" rebalance the data\"\"\"\n",
    "        if self.class_samp > 0:\n",
    "            self.Idx_List = (pd.DataFrame({'Y':self.y})\n",
    "                    .reset_index()\n",
    "                    .groupby('Y')\n",
    "                    .index\n",
    "                    .apply(lambda x: x.sample(n=self.class_samp, replace=True))\n",
    "                    .droplevel(0)\n",
    "                    .values     \n",
    "                    )\n",
    "    \n",
    "    \n",
    "    \n",
    "    def save_model(self, save_model_path: str = None):\n",
    "        \"\"\" Provides a callback to save the path\"\"\"\n",
    "        if save_model_path is not None:\n",
    "            self.save_chkpoint = ModelCheckpoint(save_model_path, \n",
    "                                            monitor='val_accuracy', \n",
    "                                            verbose=1, \n",
    "                                            save_best_only=True,\n",
    "                                            mode='max')\n",
    "            self.save_path = save_model_path\n",
    "        else:\n",
    "            self.save_path = None\n",
    "            \n",
    "    def _generate_X(self, Batch_Idx):\n",
    "        \"\"\"Generates data containing batch_size from index apply transformation to them\n",
    "        \n",
    "        Arguments:\n",
    "            Batch_Idx - {np.array} - the index numbers of batch's to use\n",
    "            \n",
    "        Return:\n",
    "            tuple of batch images\n",
    "        \"\"\"\n",
    "        # Initialization\n",
    "        X = np.empty((self.batch_size, *self.dim, self.channels))\n",
    "        # Generate data\n",
    "        for i, ID in enumerate(Batch_Idx):\n",
    "            X[i,] = self._process_images(self.x[ID,])\n",
    "        return X\n",
    "    \n",
    "    def _generate_y(self, Batch_Idx):\n",
    "        \"\"\"Generate data number batch_size from index to pull y from\n",
    "        \n",
    "        Arguments:\n",
    "            Batch_Idx - {np.array} - the index numbers of batchs to use\n",
    "            \n",
    "        Return:\n",
    "            tuple of y\n",
    "        \n",
    "        \"\"\"\n",
    "        if self.y is None:\n",
    "            y = self.x[Batch_Idx,]\n",
    "        else:\n",
    "            y = self.y[Batch_Idx]\n",
    "        #y = self.y[Batch_Idx]\n",
    "        y=y/self.scale\n",
    "        return y\n",
    "    \n",
    "    def hot_encode_y(self):\n",
    "        #self.y = pd.get_dummies(pd.Categorical(self.y_var)).values\n",
    "        if self.y is not None:\n",
    "            self.y = to_categorical(self.y)\n",
    "            print(\"Number of Encodings is {}\".format(self.y.shape[1]))\n",
    "            self.y_dim = self.y.shape[1]      \n",
    "\n",
    "    def _process_images(self,\n",
    "                        img):\n",
    "        \"\"\"Processes the images\"\"\"\n",
    "        if img.shape != self.dim:\n",
    "            img = cv2.resize(img, self.dim)\n",
    "        \n",
    "        if self.v_flip > 0:\n",
    "            img = flip_vertical(img, self.v_flip)\n",
    "        \n",
    "        if self.h_flip > 0:\n",
    "            img = flip_horizontal(img, self.h_flip)\n",
    "        \n",
    "        if self.r_prob > 0:\n",
    "            img = rotate(img, self.r_prob, self.r_deg)\n",
    "        \n",
    "        if self.s_prob > 0:\n",
    "            img = shear(img, self.s_prob, self.s_fact)\n",
    "        \n",
    "        if self.noise_std != 0:\n",
    "            img = noise(img, self.noise_std, self.noise_mu, self.dim)\n",
    "        \n",
    "        if self.star_count != 0:\n",
    "            pass\n",
    "        \n",
    "        if self.channels == 1:\n",
    "            #img = img.reshape(self.dim[0],self.dim[1],self.channels)\n",
    "            img = np.expand_dims(img,2)\n",
    "            \n",
    "        img = img/self.scale\n",
    "        \n",
    "        if self.float32 is True:\n",
    "            img = np.float32(img)\n",
    "            \n",
    "        return(img)\n",
    "        \n",
    "    def plot(self, img_idx):\n",
    "        plt.imshow(self.x[img_idx,])"
   ]
  },
  {
   "cell_type": "markdown",
   "metadata": {},
   "source": [
    "## TESTING"
   ]
  },
  {
   "cell_type": "code",
   "execution_count": 318,
   "metadata": {},
   "outputs": [],
   "source": [
    "test_x = np.load('../Data/mnist_fashion/x_test.npy')\n",
    "test_y = np.load('../Data/mnist_fashion/y_test.npy')"
   ]
  },
  {
   "cell_type": "code",
   "execution_count": 319,
   "metadata": {},
   "outputs": [
    {
     "data": {
      "text/plain": [
       "<matplotlib.image.AxesImage at 0x7f8d25e8ae48>"
      ]
     },
     "execution_count": 319,
     "metadata": {},
     "output_type": "execute_result"
    },
    {
     "data": {
      "image/png": "[encoded data removed]",
      "text/plain": [
       "<Figure size 432x288 with 1 Axes>"
      ]
     },
     "metadata": {
      "needs_background": "light"
     },
     "output_type": "display_data"
    }
   ],
   "source": [
    "plt.imshow(test_x[1,:])"
   ]
  },
  {
   "cell_type": "code",
   "execution_count": 338,
   "metadata": {},
   "outputs": [],
   "source": [
    "DG = DataGenerator_array(test_x, \n",
    "                         #test_y,\n",
    "                         to_fit = True,\n",
    "                         dim = (28,28),\n",
    "                         shuffle = False,\n",
    "                    \n",
    "                        )"
   ]
  },
  {
   "cell_type": "code",
   "execution_count": 339,
   "metadata": {},
   "outputs": [
    {
     "data": {
      "text/plain": [
       "<matplotlib.image.AxesImage at 0x7f8d258d2c88>"
      ]
     },
     "execution_count": 339,
     "metadata": {},
     "output_type": "execute_result"
    },
    {
     "data": {
      "image/png": "[encoded data removed]",
      "text/plain": [
       "<Figure size 432x288 with 1 Axes>"
      ]
     },
     "metadata": {
      "needs_background": "light"
     },
     "output_type": "display_data"
    }
   ],
   "source": [
    "RR = DG[0]\n",
    "RR[1]\n",
    "plt.imshow(RR[1][1].reshape(28,28))"
   ]
  },
  {
   "cell_type": "code",
   "execution_count": 340,
   "metadata": {},
   "outputs": [
    {
     "data": {
      "text/plain": [
       "<matplotlib.image.AxesImage at 0x7f8d258aeb00>"
      ]
     },
     "execution_count": 340,
     "metadata": {},
     "output_type": "execute_result"
    },
    {
     "data": {
      "image/png": "[encoded data removed]",
      "text/plain": [
       "<Figure size 432x288 with 1 Axes>"
      ]
     },
     "metadata": {
      "needs_background": "light"
     },
     "output_type": "display_data"
    }
   ],
   "source": [
    "plt.imshow(RR[0][1].reshape(28,28))"
   ]
  },
  {
   "cell_type": "code",
   "execution_count": 232,
   "metadata": {},
   "outputs": [],
   "source": [
    "ZZ[ZZ<0.71] = 0"
   ]
  },
  {
   "cell_type": "code",
   "execution_count": 233,
   "metadata": {},
   "outputs": [
    {
     "data": {
      "text/plain": [
       "<matplotlib.image.AxesImage at 0x7f8d27b448d0>"
      ]
     },
     "execution_count": 233,
     "metadata": {},
     "output_type": "execute_result"
    },
    {
     "data": {
      "image/png": "[encoded data removed]",
      "text/plain": [
       "<Figure size 432x288 with 1 Axes>"
      ]
     },
     "metadata": {
      "needs_background": "light"
     },
     "output_type": "display_data"
    }
   ],
   "source": [
    "plt.imshow(ZZ.reshape(28,28))"
   ]
  },
  {
   "cell_type": "code",
   "execution_count": 41,
   "metadata": {},
   "outputs": [],
   "source": [
    "XX = np.array([0.0,0.1,0.6,0.90,1.00,0.9,0.6,0.2,0.0]).reshape(9,1)\n",
    "YY = np.array([0.8,0.9,1.0,0.9,0.8,0.7,0.6,0.5,0.4]).reshape(1,9)"
   ]
  },
  {
   "cell_type": "code",
   "execution_count": 43,
   "metadata": {},
   "outputs": [
    {
     "data": {
      "text/plain": [
       "<matplotlib.image.AxesImage at 0x7f1e28b12ac8>"
      ]
     },
     "execution_count": 43,
     "metadata": {},
     "output_type": "execute_result"
    },
    {
     "data": {
      "image/png": "[encoded data removed]",
      "text/plain": [
       "<Figure size 432x288 with 1 Axes>"
      ]
     },
     "metadata": {
      "needs_background": "light"
     },
     "output_type": "display_data"
    }
   ],
   "source": [
    "plt.imshow(np.matmul(XX,np.transpose(XX)))"
   ]
  },
  {
   "cell_type": "code",
   "execution_count": 16,
   "metadata": {},
   "outputs": [
    {
     "data": {
      "text/plain": [
       "(9,)"
      ]
     },
     "execution_count": 16,
     "metadata": {},
     "output_type": "execute_result"
    }
   ],
   "source": [
    "np.transpose(XX).shape"
   ]
  },
  {
   "cell_type": "code",
   "execution_count": 34,
   "metadata": {},
   "outputs": [
    {
     "data": {
      "text/plain": [
       "array([[0. , 0.1, 0.6, 0.9, 1. , 0.9, 0.6, 0.2, 0. ]])"
      ]
     },
     "execution_count": 34,
     "metadata": {},
     "output_type": "execute_result"
    }
   ],
   "source": [
    " np.array([0.0,0.1,0.6,0.90,1.00,0.9,0.6,0.2,0.0]).reshape(1,9)"
   ]
  }
 ],
 "metadata": {
  "kernelspec": {
   "display_name": "Python 3",
   "language": "python",
   "name": "python3"
  },
  "language_info": {
   "codemirror_mode": {
    "name": "ipython",
    "version": 3
   },
   "file_extension": ".py",
   "mimetype": "text/x-python",
   "name": "python",
   "nbconvert_exporter": "python",
   "pygments_lexer": "ipython3",
   "version": "3.6.9"
  }
 },
 "nbformat": 4,
 "nbformat_minor": 4
}
