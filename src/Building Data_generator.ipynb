{
 "cells": [
  {
   "cell_type": "markdown",
   "metadata": {},
   "source": [
    "# Building Data generator"
   ]
  },
  {
   "cell_type": "code",
   "execution_count": 54,
   "metadata": {},
   "outputs": [],
   "source": [
    "import pandas as pd\n",
    "import numpy as np\n",
    "from typing import Union\n",
    "from tensorflow.keras.utils import Sequence, to_categorical # For our own data generator\n",
    "import cv2 # For image processing\n",
    "import matplotlib.pyplot as plt # for showing the val vs train model\n",
    "from tensorflow.keras.callbacks import ModelCheckpoint"
   ]
  },
  {
   "cell_type": "code",
   "execution_count": 317,
   "metadata": {},
   "outputs": [],
   "source": [
    "class DataGenerator_array(Sequence):\n",
    "    \"\"\"Generates data for Keras\n",
    "    Sequence based data generator. Suitable for building data generator for training and prediction.\n",
    "    #https://towardsdatascience.com/keras-data-generators-and-how-to-use-them-b69129ed779c\n",
    "    \"\"\"\n",
    "    def __init__(self,\n",
    "                 x: Union[pd.DataFrame, np.array],\n",
    "                 y: Union[pd.DataFrame, np.array] = None, #'grapheme_root','vowel_diacritic','consonant_diacritic' \n",
    "                 encoder: bool = None,\n",
    "                 to_fit: bool =True,\n",
    "                 batch_size: int = 32,\n",
    "                 dim: tuple = (90,160),\n",
    "                 channels: int = 1,\n",
    "                 vertical_flip: float = 0,\n",
    "                 horizontal_flip: float = 0,\n",
    "                 rotate: tuple = (0,0), #Prob, max roatioan\n",
    "                 shear: tuple = (0,0),  #prob, max_shear\n",
    "                 noise: tuple = (0,0), #mean, STD (127, 40)\n",
    "                 shuffle: bool =True,\n",
    "                 sample_classes: int = 0,\n",
    "                 save_model_path: bool = None):\n",
    "        \"\"\"Initialization of the DataGenerator Glass\n",
    "        \n",
    "        Arguments:\n",
    "            x - {DataFrame/Array} - the array/dataframe of the dependant images \n",
    "            y_var - {Dataframe/Array} - the column name/index of the y-var\n",
    "            encoder - {bool} - should the Y var be encoded\n",
    "            to_fit - {bool} - if using to fit the model, should it return the y-value as well?\n",
    "            batch_size - {int} - size of batches to deliver\n",
    "            dim - {tuple} - dimension of the images (regardless of the color scale)\n",
    "            channels - {int} - the number of color channels (generally 1 or 3)\n",
    "            vertical_flip - {float} - The percent chance to flip a photo along a vertical axis\n",
    "            horizontal_flip - (float) - The percent chance to flip a photo along a horiszontal axis\n",
    "            rotate - (tuple - (prob, degree)) - A tuple of two:\n",
    "                                                    1) the % chance of rotate\n",
    "                                                    2) The amount of rotation\n",
    "            shear - (tuple - (prob, amt)) - A two of two:\n",
    "                                                    1) The % chance of shear\n",
    "                                                    2) The amount of shear\n",
    "            noise - {tuple - (mean, std)} - adding noise to an image\n",
    "            shuffle - {bool} - shuffle label indexes after every epoch\n",
    "            sample_classes - {bool} - random samle n number from each class\n",
    "        \"\"\"\n",
    "        \n",
    "        #Getting Index that we will use to sort\n",
    "        \n",
    "        self.Idx_List = np.arange(x.shape[0])\n",
    "        \n",
    "        self.x = x\n",
    "        \n",
    "        # Loading y_Vars\n",
    "        self.y = y\n",
    "            \n",
    "                \n",
    "        \n",
    "        #Setting other vars\n",
    "        self.batch_size = batch_size\n",
    "        self.fit = to_fit\n",
    "        \n",
    "        self.class_samp = sample_classes\n",
    "        if self.class_samp > 0:            \n",
    "            self.sample_class()\n",
    "            \n",
    "        self.shuffle = shuffle\n",
    "        if self.shuffle:\n",
    "            np.random.shuffle(self.Idx_List)\n",
    "            \n",
    "        self.dim = dim\n",
    "        self.channels = channels\n",
    "        if self.channels == 1:\n",
    "            self.read_mode = cv2.IMREAD_GRAYSCALE\n",
    "        elif self.channels == 3:\n",
    "            self.read_mode = cv2.IMREAD_COLOR\n",
    "        else:\n",
    "            self.read_mode = cv2.IMREAD_UNCHANGED\n",
    "        \n",
    "        \n",
    "        #Checks!\n",
    "        assert 0 <= vertical_flip <=1, \"vertical_flip = {}, which is not between 0 or 1\".format(vertical_flip)\n",
    "        self.v_flip = vertical_flip\n",
    "        \n",
    "        assert 0 <= horizontal_flip <=1, \"horizontal_flip = {}, which is not between 0 or 1\".format(horizontal_flip)\n",
    "        self.h_flip = horizontal_flip\n",
    "        \n",
    "        assert 0 <= rotate[0] <=1, \"first value of rotate = {}, which is not between 0 or 1\".format(rotate[0])\n",
    "        self.r_prob = rotate[0]\n",
    "        assert 0 <= rotate[1] < 360, \"second value of rotate = {}, which is not between 0 or 359\".format(rotate[1])\n",
    "        self.r_deg = rotate[1]\n",
    "        \n",
    "        assert 0 <= shear[0] <=1, \"first value of shear = {}, which is not between 0 or 1\".format(shear[0])\n",
    "        self.s_prob = shear[0]\n",
    "        \n",
    "        assert 0 <= shear[1] <=359, \"first value of shear = {}, which is not between 0 or 359\".format(shear[1])\n",
    "        self.s_fact = shear[1]\n",
    "        \n",
    "        self.noise_mu = noise[0]\n",
    "        self.noise_std = noise[1]\n",
    "        \n",
    "        self.save_model(save_model_path)\n",
    "        #self.on_epoch_end()\n",
    "        \n",
    "    def __len__(self):\n",
    "        \"\"\"Denotes the number of batches per epoch\n",
    "        Returns:\n",
    "            int\n",
    "        \"\"\"\n",
    "        return int(np.floor(len(self.Idx_List) / self.batch_size))\n",
    "\n",
    "    def __getitem__(self, index: np.array):\n",
    "        \"\"\"returns one batch at given index for the data\n",
    "        \n",
    "        Arguments:\n",
    "             index - {array} the index of the batch\n",
    "        \n",
    "        Returns: \n",
    "            tuples\n",
    "            (x,)  when to_fit is false\n",
    "            or\n",
    "            (x,y,None) when to_Fit is true\n",
    "        \"\"\"\n",
    "        # Generate indexes of the batch\n",
    "        Batch_Idx = self.Idx_List[index * self.batch_size:(index + 1) * self.batch_size]\n",
    "\n",
    "\n",
    "        # Generate data\n",
    "        X = self._generate_X(Batch_Idx)\n",
    "\n",
    "        if self.fit:\n",
    "            y = self._generate_y(Batch_Idx)\n",
    "            return X, y, [None]\n",
    "        else:\n",
    "            return X, [None]\n",
    "        \n",
    "    #TODO add a def __iter__ and __next__ methodology so we can loop through it!\n",
    "\n",
    "    def on_epoch_end(self):\n",
    "        \"\"\"Updates indexes after each epoch\n",
    "        \"\"\"\n",
    "        #self.indexes = np.arange(len(self.list_IDs))\n",
    "        self.sample_class()\n",
    "        if self.shuffle == True:\n",
    "            np.random.shuffle(self.Idx_List)\n",
    "        if self.save_path is not None:\n",
    "            #self.save_chkpoint()\n",
    "            self.save_model()\n",
    "        \n",
    "    def sample_class(self):\n",
    "        \"\"\" rebalance the data\"\"\"\n",
    "        if self.class_samp > 0:\n",
    "            self.Idx_List = (pd.DataFrame({'Y':self.y})\n",
    "                    .reset_index()\n",
    "                    .groupby('Y')\n",
    "                    .index\n",
    "                    .apply(lambda x: x.sample(n=self.class_samp, replace=True))\n",
    "                    .droplevel(0)\n",
    "                    .values     \n",
    "                    )\n",
    "    \n",
    "    \n",
    "    \n",
    "    def save_model(self, save_model_path: str = None):\n",
    "        \"\"\" Provides a callback to save the path\"\"\"\n",
    "        if save_model_path is not None:\n",
    "            self.save_chkpoint = ModelCheckpoint(save_model_path, \n",
    "                                            monitor='val_accuracy', \n",
    "                                            verbose=1, \n",
    "                                            save_best_only=True,\n",
    "                                            mode='max')\n",
    "            self.save_path = save_model_path\n",
    "        else:\n",
    "            self.save_path = None\n",
    "            \n",
    "    def _generate_X(self, Batch_Idx):\n",
    "        \"\"\"Generates data containing batch_size from index apply transformation to them\n",
    "        \n",
    "        Arguments:\n",
    "            Batch_Idx - {np.array} - the index numbers of batch's to use\n",
    "            \n",
    "        Return:\n",
    "            tuple of batch images\n",
    "        \"\"\"\n",
    "        # Initialization\n",
    "        X = np.empty((self.batch_size, *self.dim, self.channels))\n",
    "        # Generate data\n",
    "        for i, ID in enumerate(Batch_Idx):\n",
    "            X[i,] = self._process_images(self.x[ID,])\n",
    "        return X\n",
    "    \n",
    "    def _generate_y(self, Batch_Idx):\n",
    "        if self.y is None:\n",
    "            y = self.x[Batch_Idx,]/225.0\n",
    "        else:\n",
    "            y = self.y[Batch_Idx]\n",
    "        #y = self.y[Batch_Idx]\n",
    "        return y\n",
    "    \n",
    "    def hot_encode_y(self):\n",
    "        #self.y = pd.get_dummies(pd.Categorical(self.y_var)).values\n",
    "        if self.y_var is not None:\n",
    "            self.y = to_categorical(self.y_var)\n",
    "            print(\"Number of Encodings is {}\".format(self.y.shape[1]))\n",
    "            self.y_dim = self.y.shape[1]      \n",
    "\n",
    "    def _process_images(self,\n",
    "                        img):\n",
    "        \"\"\"Processes the images\"\"\"\n",
    "        if img.shape != self.dim:\n",
    "            img = cv2.resize(img, self.dim)\n",
    "        \n",
    "        if self.v_flip > 0:\n",
    "            img = self._flip_vertical(img)\n",
    "        \n",
    "        if self.h_flip > 0:\n",
    "            img = self._flip_horizontal(img)\n",
    "        \n",
    "        if self.r_prob > 0:\n",
    "            img = self._rotate(img)\n",
    "        \n",
    "        if self.s_prob > 0:\n",
    "            img = self._shear(img)\n",
    "        \n",
    "        if self.noise_std != 0:\n",
    "            img = self._noise(img)\n",
    "        \n",
    "        if self.channels == 1:\n",
    "            #img = img.reshape(self.dim[0],self.dim[1],self.channels)\n",
    "            img = np.expand_dims(img,2)\n",
    "            \n",
    "        img = img/255.0\n",
    "        return(img)\n",
    "        \n",
    "    def _flip_vertical(self, img):\n",
    "        \"\"\"Flips and image on a  vertica axis, as set by v_flip,\n",
    "        if set to zero, will never flip the image \"\"\"\n",
    "        if 1 - self.v_flip < np.random.uniform():\n",
    "            img = cv2.flip(img,1)\n",
    "            return(img)\n",
    "        else:\n",
    "            return(img)\n",
    "        \n",
    "    def _flip_horizontal(self, img):\n",
    "        \"\"\"Flips and image on a horizontal axis, as set by v_flip,\n",
    "        if set to zero, will never flip the image \"\"\"\n",
    "        if 1 - self.h_flip < np.random.uniform():\n",
    "            img = cv2.flip(img,0)\n",
    "            return(img)\n",
    "        else:\n",
    "            return(img)\n",
    "        \n",
    "    def _rotate(self, img):\n",
    "        if 1 - self.r_prob < np.random.uniform():\n",
    "            rows, cols = img.shape[0], img.shape[1]\n",
    "            #TODO allow a rotation both forward and backwards\n",
    "            Rot_M = cv2.getRotationMatrix2D((cols / 2, rows / 2), np.random.uniform(self.r_deg), 1)\n",
    "            img = cv2.warpAffine(img, Rot_M, (cols, rows))\n",
    "            return(img)\n",
    "        else:\n",
    "            return(img)\n",
    "        \n",
    "    def _shear(self, img):\n",
    "        \"\"\"\n",
    "        https://blog.paperspace.com/data-augmentation-for-object-detection-rotation-and-shearing/\n",
    "        \"\"\"\n",
    "        if 1 - self.s_prob < np.random.uniform():\n",
    "            #TODO allow a shear both forward and backwards\n",
    "            rows, cols = img.shape[0], img.shape[1]\n",
    "            \n",
    "            shear_factor = np.random.uniform(self.s_fact)\n",
    "            \n",
    "            M = np.array([[1, shear_factor, 0],[0,1,0]])\n",
    "            nW =  img.shape[1] + abs(shear_factor*img.shape[0])\n",
    "            img = cv2.warpAffine(img, M, (int(nW), img.shape[0]))\n",
    "            img = cv2.resize(img, (cols,rows))\n",
    "            return(img)\n",
    "        else:\n",
    "            return(img)\n",
    "\n",
    "    def _noise(self, img):\n",
    "        \"\"\"adds random noise to an image\n",
    "        \"\"\"\n",
    "        gaussian = np.random.normal(self.noise_mu, \n",
    "                                    self.noise_std, \n",
    "                                    self.dim)\n",
    "        \n",
    "        #adding limit to it\n",
    "        gaussian[gaussian < 0] = 0\n",
    "        gaussian[gaussian > 255] = 225\n",
    "        img = img + gaussian\n",
    "        return(img)\n",
    "        \n",
    "    def plot(self, img_idx):\n",
    "        plt.imshow(self.x[img_idx,])"
   ]
  },
  {
   "cell_type": "markdown",
   "metadata": {},
   "source": [
    "## TESTING"
   ]
  },
  {
   "cell_type": "code",
   "execution_count": 318,
   "metadata": {},
   "outputs": [],
   "source": [
    "test_x = np.load('../Data/mnist_fashion/x_test.npy')\n",
    "test_y = np.load('../Data/mnist_fashion/y_test.npy')"
   ]
  },
  {
   "cell_type": "code",
   "execution_count": 319,
   "metadata": {},
   "outputs": [
    {
     "data": {
      "text/plain": [
       "<matplotlib.image.AxesImage at 0x7f8d25e8ae48>"
      ]
     },
     "execution_count": 319,
     "metadata": {},
     "output_type": "execute_result"
    },
    {
     "data": {
      "image/png": "[encoded data removed]",
      "text/plain": [
       "<Figure size 432x288 with 1 Axes>"
      ]
     },
     "metadata": {
      "needs_background": "light"
     },
     "output_type": "display_data"
    }
   ],
   "source": [
    "plt.imshow(test_x[1,:])"
   ]
  },
  {
   "cell_type": "code",
   "execution_count": 338,
   "metadata": {},
   "outputs": [],
   "source": [
    "DG = DataGenerator_array(test_x, \n",
    "                         #test_y,\n",
    "                         to_fit = True,\n",
    "                         dim = (28,28),\n",
    "                         shuffle = False,\n",
    "                    \n",
    "                        )"
   ]
  },
  {
   "cell_type": "code",
   "execution_count": 339,
   "metadata": {},
   "outputs": [
    {
     "data": {
      "text/plain": [
       "<matplotlib.image.AxesImage at 0x7f8d258d2c88>"
      ]
     },
     "execution_count": 339,
     "metadata": {},
     "output_type": "execute_result"
    },
    {
     "data": {
      "image/png": "[encoded data removed]",
      "text/plain": [
       "<Figure size 432x288 with 1 Axes>"
      ]
     },
     "metadata": {
      "needs_background": "light"
     },
     "output_type": "display_data"
    }
   ],
   "source": [
    "RR = DG[0]\n",
    "RR[1]\n",
    "plt.imshow(RR[1][1].reshape(28,28))"
   ]
  },
  {
   "cell_type": "code",
   "execution_count": 340,
   "metadata": {},
   "outputs": [
    {
     "data": {
      "text/plain": [
       "<matplotlib.image.AxesImage at 0x7f8d258aeb00>"
      ]
     },
     "execution_count": 340,
     "metadata": {},
     "output_type": "execute_result"
    },
    {
     "data": {
      "image/png": "[encoded data removed]",
      "text/plain": [
       "<Figure size 432x288 with 1 Axes>"
      ]
     },
     "metadata": {
      "needs_background": "light"
     },
     "output_type": "display_data"
    }
   ],
   "source": [
    "plt.imshow(RR[0][1].reshape(28,28))"
   ]
  },
  {
   "cell_type": "code",
   "execution_count": 232,
   "metadata": {},
   "outputs": [],
   "source": [
    "ZZ[ZZ<0.71] = 0"
   ]
  },
  {
   "cell_type": "code",
   "execution_count": 233,
   "metadata": {},
   "outputs": [
    {
     "data": {
      "text/plain": [
       "<matplotlib.image.AxesImage at 0x7f8d27b448d0>"
      ]
     },
     "execution_count": 233,
     "metadata": {},
     "output_type": "execute_result"
    },
    {
     "data": {
      "image/png": "[encoded data removed]",
      "text/plain": [
       "<Figure size 432x288 with 1 Axes>"
      ]
     },
     "metadata": {
      "needs_background": "light"
     },
     "output_type": "display_data"
    }
   ],
   "source": [
    "plt.imshow(ZZ.reshape(28,28))"
   ]
  },
  {
   "cell_type": "code",
   "execution_count": null,
   "metadata": {},
   "outputs": [],
   "source": []
  }
 ],
 "metadata": {
  "kernelspec": {
   "display_name": "Python 3",
   "language": "python",
   "name": "python3"
  },
  "language_info": {
   "codemirror_mode": {
    "name": "ipython",
    "version": 3
   },
   "file_extension": ".py",
   "mimetype": "text/x-python",
   "name": "python",
   "nbconvert_exporter": "python",
   "pygments_lexer": "ipython3",
   "version": "3.6.9"
  }
 },
 "nbformat": 4,
 "nbformat_minor": 4
}
