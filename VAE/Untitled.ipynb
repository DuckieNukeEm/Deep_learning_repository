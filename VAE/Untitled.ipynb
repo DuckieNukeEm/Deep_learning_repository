{
 "cells": [
  {
   "cell_type": "markdown",
   "metadata": {},
   "source": [
    "# Building a VAE for shits n Giggles"
   ]
  },
  {
   "cell_type": "markdown",
   "metadata": {},
   "source": [
    "### Importing Libraries"
   ]
  },
  {
   "cell_type": "code",
   "execution_count": 2,
   "metadata": {},
   "outputs": [],
   "source": [
    "import numpy as np\n",
    "import pandas as pd\n",
    "import tensorflow as tf\n",
    "from tensorflow.keras import layers"
   ]
  },
  {
   "cell_type": "markdown",
   "metadata": {},
   "source": [
    "###  setting constants"
   ]
  },
  {
   "cell_type": "code",
   "execution_count": 3,
   "metadata": {},
   "outputs": [],
   "source": [
    "latent_dim = 2"
   ]
  },
  {
   "cell_type": "markdown",
   "metadata": {},
   "source": [
    "### Step 1 - building a model\n",
    "#### Encoder\n",
    "We're going to use  a sequentail model to get this done"
   ]
  },
  {
   "cell_type": "code",
   "execution_count": null,
   "metadata": {},
   "outputs": [],
   "source": [
    "vae_encoder = tf.keras.Sequential([\n",
    "    layers.InputLayer(input_shape=(28, 28, 1)),\n",
    "    layers.Conv2D(filters=32, \n",
    "                  kernel_size=3,\n",
    "                  strides=(2, 2), \n",
    "                  activation='relu'),\n",
    "     layers.Conv2D(filters=64,\n",
    "                   kernel_size=3, \n",
    "                   strides=(2, 2), \n",
    "                   activation='relu'),\n",
    "     tf.keras.layers.Flatten(),\n",
    "     layers.Dense(latent_dim + latent_dim),\n",
    "        ]\n",
    "    )\n"
   ]
  }
 ],
 "metadata": {
  "kernelspec": {
   "display_name": "Python 3",
   "language": "python",
   "name": "python3"
  },
  "language_info": {
   "codemirror_mode": {
    "name": "ipython",
    "version": 3
   },
   "file_extension": ".py",
   "mimetype": "text/x-python",
   "name": "python",
   "nbconvert_exporter": "python",
   "pygments_lexer": "ipython3",
   "version": "3.8.5"
  }
 },
 "nbformat": 4,
 "nbformat_minor": 4
}
